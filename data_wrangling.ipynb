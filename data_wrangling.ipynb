{
 "cells": [
  {
   "cell_type": "markdown",
   "metadata": {},
   "source": [
    "# FIT5149 S1 2020 Assessment 2: Authorship Profiling\n",
    "\n",
    "## Text Preprocessing and Feature Extraction\n",
    "\n",
    "Student information\n",
    "- Group: 41\n",
    "- Student Names: Alan Gewerc, Cristiana Garcia Gewerc, Priscila Grecov\n",
    "- Student ID: 2996246, 3008887, 29880858\n",
    "- Student email: agew0001@student.monash.edu, ccal0007@student.monash.edu, pgre0007@student.monash.edu\n",
    "\n",
    "Programming Language: Python 3 in Jupyter Notebook\n",
    "\n",
    "Libraries used:\n",
    "- bs4\n",
    "- re\n",
    "- os\n",
    "- numpy\n",
    "- pandas\n",
    "- matplotlib\n",
    "- itertools\n",
    "- nltk.tokenize.casual\n",
    "- nltk.probability\n",
    "- sklearn.feature_extraction.text\n",
    "- time\n",
    "- gensim.models \n",
    "- pprint\n",
    "- scipy.sparse\n",
    "- random\n",
    "- warnings\n",
    "\n",
    "### 0. Import Libraries"
   ]
  },
  {
   "cell_type": "code",
   "execution_count": 1,
   "metadata": {},
   "outputs": [],
   "source": [
    "from bs4 import BeautifulSoup as bsoup # pulling data out of HTML and XML files\n",
    "import re # regex - string manipulation\n",
    "from nltk.tokenize.casual import TweetTokenizer # for tokenization\n",
    "import os # file manipulation\n",
    "import numpy as np # work with arrays\n",
    "import pandas as pd # for dataframes\n",
    "import random \n",
    "import warnings\n",
    "import matplotlib.pyplot as plt\n",
    "from itertools import chain # iterators for efficient looping\n",
    "from nltk.probability import * # statistical natural language processing\n",
    "from sklearn.feature_extraction.text import CountVectorizer # bag of words\n",
    "from sklearn.feature_extraction.text import TfidfVectorizer # tf-idf\n",
    "from time import time # to track performance\n",
    "from gensim.models import Word2Vec # for embedding\n",
    "from pprint import pprint\n",
    "from scipy.sparse import csr_matrix"
   ]
  },
  {
   "cell_type": "markdown",
   "metadata": {},
   "source": [
    "### 1. Function for Parsing Data\n",
    "\n",
    "The data comes in data.zip contains 3,600 twitter texts for those authors, which acts as the training and testing\n",
    "data. We have unzipped the folder and we need to extract the labels and text from each one of the 3,600 .XML files. Each file contains 100 tweets associated to the same person. The `read_xml` function take the path where the .XML files are located and returns a list of the parsed contents. "
   ]
  },
  {
   "cell_type": "code",
   "execution_count": 2,
   "metadata": {},
   "outputs": [],
   "source": [
    "def read_XML (file_path):\n",
    "    \"\"\"\n",
    "        This function extracts the posts from XML file and returns a list of the posts delimited by <document> tag.\n",
    "    \"\"\"    \n",
    "    infile = open(file_path,\"r\", encoding = \"UTF-8\")\n",
    "    contents = infile.read()\n",
    "    soup = bsoup(contents,'xml')\n",
    "    posts = soup.find_all('document')\n",
    "\n",
    "    post_list = []\n",
    "    for i in range(0, len(posts)):\n",
    "        post_list.append(posts[i].get_text())\n",
    "    \n",
    "    return post_list"
   ]
  },
  {
   "cell_type": "markdown",
   "metadata": {},
   "source": [
    "To retrieve the matching IDs of each element of the list returned by the `read_XML()`, we construct a dictionary where the keys are the file name corresponding to the extracted text which is the value."
   ]
  },
  {
   "cell_type": "code",
   "execution_count": 3,
   "metadata": {},
   "outputs": [],
   "source": [
    "dict_posts = {} # dict with ID and text posts\n",
    "\n",
    "xml_file_path = \"data/\" # relative path to get files from\n",
    "\n",
    "for xfile in os.listdir(xml_file_path): \n",
    "\n",
    "    xfile = os.path.join(xml_file_path, xfile) # joining file ID and contents\n",
    "\n",
    "    if os.path.isfile(xfile) and xfile.endswith('.xml'): # going tweet by tweet for the person \n",
    "        post = read_XML(xfile)\n",
    "        post_id = re.sub(\"data/\", \"\" ,xfile)\n",
    "        post_id = re.sub(\".xml\", \"\" ,post_id)\n",
    "        dict_posts[post_id] = post"
   ]
  },
  {
   "cell_type": "markdown",
   "metadata": {},
   "source": [
    "### 2. Make Tokenization and Create Features\n",
    "\n",
    "Now `dict_posts` is a dictionary where each key is a unique user ID and each value is a list of the corresponding user posts. We create the `TokenizeReplaceURL` function to perform the following steps:\n",
    "\n",
    "1. Lowercase all words;\n",
    "2. Aggregate for each user all posts and make it into a single block of posts;\n",
    "3. Replace all URL links by the string `URL` (using the regex pattern suggested by Cham J. (2013, March 15));\n",
    "4. Replace all @username kind of mentions by `xusernamex`;\n",
    "5. Tokenize the blocks of posts using `TweetTokenizer` as described in NLTK Project. (2020);\n",
    "6. Remove all words that contain digits by selecting words only if all characters in the string are alphabetic.\n",
    "\n",
    "The idea of aggregating usernames and URLs into one varible was taken from Nieuwenhuis, M., & Wilkens, J. (2018, September). The authors show that in a similar classification task, adding these 2 steps increases the accuracy of the models."
   ]
  },
  {
   "cell_type": "code",
   "execution_count": 4,
   "metadata": {},
   "outputs": [],
   "source": [
    "TweetToken = TweetTokenizer()\n",
    "\n",
    "def TokenizeReplaceUserURL(k, v, tknzr = TweetToken):\n",
    "    \"\"\"\n",
    "        This function replace @username by xxusername and URLs and tokenizes a raw text document.\n",
    "    \"\"\"\n",
    "    raw_article = ' '.join(v).lower() # cover all words to lowercase\n",
    "    replaced_article = re.sub(r'''(?i)\\b((?:https?://|www\\d{0,3}[.]|[a-z0-9.\\-]+[.][a-z]{2,4}/)(?:[^\\s()<>]+|\\(([^\\s()<>]+|(\\([^\\s()<>]+\\)))*\\))+(?:\\(([^\\s()<>]+|(\\([^\\s()<>]+\\)))*\\)|[^\\s`!()\\[\\]{};:'\".,<>?«»“”‘’]))'''\n",
    ", 'URL', raw_article, flags=re.MULTILINE)\n",
    "    tokenised_article = re.sub(r'(\\@\\w+)', 'xusernamex', replaced_article)\n",
    "    tokenised_article = tknzr.tokenize(tokenised_article) # tokenize\n",
    "    tokenised_article = [word for word in tokenised_article if word.isalpha()]  # remove all words that contain digits\n",
    "   \n",
    "    return (k, tokenised_article)     "
   ]
  },
  {
   "cell_type": "code",
   "execution_count": 5,
   "metadata": {},
   "outputs": [],
   "source": [
    "# takes a while to run \n",
    "dict_token_by_id = dict(TokenizeReplaceUserURL(k, v) for k, v in dict_posts.items())"
   ]
  },
  {
   "cell_type": "markdown",
   "metadata": {},
   "source": [
    "After implementing the preprocessing to generate `dict_token_by_id` (a dictionary of IDs and lists of corresponding preprocessed tokens), lets analyse our vocabulary with some metrics such as lexical diversity:\n",
    "\n",
    "$Lexical Diversity = \\frac{Number of Unique Words}{Number of Tokens}$\n"
   ]
  },
  {
   "cell_type": "code",
   "execution_count": 6,
   "metadata": {},
   "outputs": [
    {
     "name": "stdout",
     "output_type": "stream",
     "text": [
      "Vocabulary size:  90321 \n",
      "Total number of tokens:  4603407 \n",
      "Lexical diversity:  0.019620468057679887\n"
     ]
    }
   ],
   "source": [
    "# implementing the Lexical Diversity formula\n",
    "words = list(chain.from_iterable(dict_token_by_id.values()))\n",
    "vocab = set(words)\n",
    "lexical_diversity = len(vocab)/len(words)\n",
    "print (\"Vocabulary size: \",len(vocab),\"\\nTotal number of tokens: \", len(words), \\\n",
    "\"\\nLexical diversity: \", lexical_diversity)"
   ]
  },
  {
   "cell_type": "markdown",
   "metadata": {},
   "source": [
    "### 3. Train Labels \n",
    "\n",
    "We retrive the train labels from `train_labels.csv` file. The tweets in `dict_token_by_id` contains a mix of training and testing IDs. To separate it in the future, we will need the information contained in the id column of the `train_labels` dataframe."
   ]
  },
  {
   "cell_type": "code",
   "execution_count": 7,
   "metadata": {},
   "outputs": [
    {
     "data": {
      "text/html": [
       "<div>\n",
       "<style scoped>\n",
       "    .dataframe tbody tr th:only-of-type {\n",
       "        vertical-align: middle;\n",
       "    }\n",
       "\n",
       "    .dataframe tbody tr th {\n",
       "        vertical-align: top;\n",
       "    }\n",
       "\n",
       "    .dataframe thead th {\n",
       "        text-align: right;\n",
       "    }\n",
       "</style>\n",
       "<table border=\"1\" class=\"dataframe\">\n",
       "  <thead>\n",
       "    <tr style=\"text-align: right;\">\n",
       "      <th></th>\n",
       "      <th>gender</th>\n",
       "    </tr>\n",
       "    <tr>\n",
       "      <th>id</th>\n",
       "      <th></th>\n",
       "    </tr>\n",
       "  </thead>\n",
       "  <tbody>\n",
       "    <tr>\n",
       "      <th>b91efc94c91ad3f882a612ae2682af17</th>\n",
       "      <td>male</td>\n",
       "    </tr>\n",
       "    <tr>\n",
       "      <th>ff91e6d4b79fc64072ae273aa3fed77e</th>\n",
       "      <td>male</td>\n",
       "    </tr>\n",
       "    <tr>\n",
       "      <th>7e199c5885131a2579429c07f3215cbc</th>\n",
       "      <td>female</td>\n",
       "    </tr>\n",
       "    <tr>\n",
       "      <th>cdc2d20d75f8187ee54caf56b2c77626</th>\n",
       "      <td>male</td>\n",
       "    </tr>\n",
       "    <tr>\n",
       "      <th>53259762a49f56f451605df3efa955e6</th>\n",
       "      <td>female</td>\n",
       "    </tr>\n",
       "  </tbody>\n",
       "</table>\n",
       "</div>"
      ],
      "text/plain": [
       "                                  gender\n",
       "id                                      \n",
       "b91efc94c91ad3f882a612ae2682af17    male\n",
       "ff91e6d4b79fc64072ae273aa3fed77e    male\n",
       "7e199c5885131a2579429c07f3215cbc  female\n",
       "cdc2d20d75f8187ee54caf56b2c77626    male\n",
       "53259762a49f56f451605df3efa955e6  female"
      ]
     },
     "execution_count": 7,
     "metadata": {},
     "output_type": "execute_result"
    }
   ],
   "source": [
    "# loading the dataset\n",
    "train_labels = pd.read_csv('train_labels.csv', index_col='id') \n",
    "train_labels.head()"
   ]
  },
  {
   "cell_type": "markdown",
   "metadata": {},
   "source": [
    "### 4. Analysis of Most and Less Frequent Words"
   ]
  },
  {
   "cell_type": "code",
   "execution_count": 8,
   "metadata": {},
   "outputs": [],
   "source": [
    "# getting the word frequency\n",
    "fd_1 = FreqDist(words)"
   ]
  },
  {
   "cell_type": "markdown",
   "metadata": {},
   "source": [
    "We use the `most_common` function to print out the most frequent words together with their frequencies."
   ]
  },
  {
   "cell_type": "code",
   "execution_count": 9,
   "metadata": {},
   "outputs": [
    {
     "name": "stdout",
     "output_type": "stream",
     "text": [
      "[('xusernamex', 272010), ('URL', 168805), ('the', 151927), ('to', 116209), ('a', 97881), ('i', 73395), ('of', 68470), ('and', 65327), ('in', 62509), ('for', 58422), ('is', 57648), ('you', 56360), ('on', 42992), ('it', 40450), ('this', 38605), ('that', 32309), ('my', 31946), ('with', 27124), ('be', 26277), ('at', 22617), ('have', 22405), ('so', 22214), ('are', 22178), ('not', 21579), ('your', 20744)]\n"
     ]
    }
   ],
   "source": [
    "print(fd_1.most_common(25))"
   ]
  },
  {
   "cell_type": "markdown",
   "metadata": {},
   "source": [
    "The list above contains the 25 most frequent words. You can see that it is mostly dominated by the little words of the English language which have important grammatical roles. Those words are articles, prepositions, pronouns, auxiliary webs, conjunctions, etc. \n",
    "\n",
    "Also, our designed words `xusernamex` and `URL` are the top most common words. It means that users mention a lot other users and websites. \n",
    "\n",
    "In a first step, we don't remove this words because maybe men and women uses than with a different frequency. For instance, we have a hypothesis that women talk about themselves more than men, so `I` could offer some differentiation power between the two groups. \n",
    "\n",
    "What proportion of the text is taken up with such words? We generate a cumulative frequency plot for them using  `fd.plot(25, cumulative=True)`. These 25 words account for about 16% of the total tweets corpus."
   ]
  },
  {
   "cell_type": "code",
   "execution_count": 9,
   "metadata": {},
   "outputs": [
    {
     "data": {
      "image/png": "[encoded data removed]",
      "text/plain": [
       "<Figure size 432x288 with 1 Axes>"
      ]
     },
     "metadata": {
      "needs_background": "light"
     },
     "output_type": "display_data"
    },
    {
     "data": {
      "text/plain": [
       "<matplotlib.axes._subplots.AxesSubplot at 0x7ff4b5f6ed10>"
      ]
     },
     "execution_count": 9,
     "metadata": {},
     "output_type": "execute_result"
    }
   ],
   "source": [
    "# plotting the cumulative frequency \n",
    "%matplotlib inline\n",
    "fd_1.plot(25, cumulative=True)"
   ]
  },
  {
   "cell_type": "markdown",
   "metadata": {},
   "source": [
    "Now we look at the word's frequency in terms of how many documents they appear at:"
   ]
  },
  {
   "cell_type": "code",
   "execution_count": 10,
   "metadata": {},
   "outputs": [
    {
     "name": "stdout",
     "output_type": "stream",
     "text": [
      "[('to', 3591), ('a', 3590), ('the', 3589), ('for', 3585), ('in', 3583), ('of', 3579), ('on', 3578), ('and', 3577), ('is', 3566), ('URL', 3562), ('with', 3556), ('you', 3545), ('it', 3540), ('this', 3517), ('be', 3515), ('that', 3514), ('are', 3507), ('i', 3499), ('at', 3495), ('xusernamex', 3483), ('have', 3472), ('not', 3438), ('from', 3429), ('what', 3426), ('all', 3403)]\n"
     ]
    }
   ],
   "source": [
    "words_2 = list(chain.from_iterable([set(value) for value in dict_token_by_id.values()]))\n",
    "fd_2 = FreqDist(words_2)\n",
    "print(fd_2.most_common(25))"
   ]
  },
  {
   "cell_type": "markdown",
   "metadata": {},
   "source": [
    "The words are still similar, but the order of the most common ones is a bit different. For instance, `URL` doesn't show up in `fd_2`, meaning that probabibly it's not so many users that cite websites but some of the users who do it use a lot of citations.\n",
    "\n",
    "### 5. Filtering Rare Tokens\n",
    "\n",
    "We do two different kinds of fiters here:\n",
    "\n",
    "1. `more_than_1doc`: only removes the tokens which are used by a single user;\n",
    "2. `more_than_5perc`: removes the tokens which are used by less than 5% of the users."
   ]
  },
  {
   "cell_type": "code",
   "execution_count": 11,
   "metadata": {},
   "outputs": [
    {
     "data": {
      "text/plain": [
       "44639"
      ]
     },
     "execution_count": 11,
     "metadata": {},
     "output_type": "execute_result"
    }
   ],
   "source": [
    "more_than_1doc = [i[0] for i in fd_2.items() if i[1] >= 2] # list of words which more than 1 person uses\n",
    "more_than_5perc = [i[0] for i in fd_2.items() if i[1] >= 180] # list of words which more than 5% of people uses\n",
    "\n",
    "len(more_than_1doc) # remaining vocabulary size after \"more than 1-person\" filter"
   ]
  },
  {
   "cell_type": "code",
   "execution_count": 12,
   "metadata": {},
   "outputs": [
    {
     "data": {
      "text/plain": [
       "1849"
      ]
     },
     "execution_count": 12,
     "metadata": {},
     "output_type": "execute_result"
    }
   ],
   "source": [
    "len(more_than_5perc) # remaining vocabulary size after \"more than 5%-people\" filter"
   ]
  },
  {
   "cell_type": "markdown",
   "metadata": {},
   "source": [
    "Based on this filtered vocabularies, we generate `tokenized_id` (with the 1 user filter) and `tokenized_id2` (with the 5% of users filter)."
   ]
  },
  {
   "cell_type": "code",
   "execution_count": 13,
   "metadata": {},
   "outputs": [],
   "source": [
    "tokenized_id = {} # dictionary of tokens considering only tokens appering in more than 1 user\n",
    "tokenized_id2 = {} # dictionary of tokens considering only tokens appering in more than 5% of users\n",
    "\n",
    "for user in dict_token_by_id:\n",
    "    # the first version is for bag of words\n",
    "    tokenized_id[user] = [w for w in dict_token_by_id[user] if w in more_than_1doc]\n",
    "    # the second version is for tf-idf and word2vec\n",
    "    tokenized_id2[user] = [w for w in dict_token_by_id[user] if w in more_than_5perc]"
   ]
  },
  {
   "cell_type": "markdown",
   "metadata": {},
   "source": [
    "Let's generate the tokens list and frequency of words of each of this dictionaries to compare the distribution of frequencies:"
   ]
  },
  {
   "cell_type": "code",
   "execution_count": 14,
   "metadata": {},
   "outputs": [],
   "source": [
    "words_3 = list(chain.from_iterable(tokenized_id.values()))\n",
    "fd_3 = FreqDist(words_3)\n",
    "fd_3b = FreqDist(list(chain.from_iterable(tokenized_id2.values())))"
   ]
  },
  {
   "cell_type": "code",
   "execution_count": 15,
   "metadata": {},
   "outputs": [
    {
     "data": {
      "image/png": "[encoded data removed]",
      "text/plain": [
       "<Figure size 720x504 with 1 Axes>"
      ]
     },
     "metadata": {
      "needs_background": "light"
     },
     "output_type": "display_data"
    }
   ],
   "source": [
    "# plotting the graph to see the different frequency distribution of words for the both filters\n",
    "ind = np.arange(9)\n",
    "width = 0.2\n",
    "label_graph = ['> 1doc', '> 5% doc']\n",
    "\n",
    "fig, ax = plt.subplots(figsize=(10,7))\n",
    "i = 0\n",
    "for freq_d in [fd_3, fd_3b]:\n",
    "    ffd = FreqDist(freq_d.values())\n",
    "    from pylab import *\n",
    "    y = [0]*9\n",
    "    for k, v in ffd.items():\n",
    "         if k <= 100:\n",
    "            y[0] = v\n",
    "         elif k >100 and k <= 200:\n",
    "            y[1] =  y[1] + v\n",
    "         elif k >200 and k <= 300:\n",
    "            y[2] =  y[2] + v\n",
    "         elif k > 300 and k <= 400:\n",
    "            y[3] =  y[3] + v\n",
    "         elif k > 400 and k <= 500:\n",
    "            y[4] =  y[4] + v\n",
    "         elif k > 500 and k <= 1000:\n",
    "            y[5] =  y[5] + v\n",
    "         elif k > 1000 and k <= 2000:\n",
    "            y[6] =  y[6] + v\n",
    "         elif k > 2000 and k <= 5000:\n",
    "            y[7] =  y[7] + v\n",
    "         else:\n",
    "            y[8] =  y[8] + v\n",
    "    x = range(0,9) # generate integer from 1 to 8\n",
    "    ytks =list(map(str, ['<100', '100-200','201-300','301-400','401-500','501-1000','1001-2000',\n",
    "                     '2001-5000','>5000'])) # covert a integer list to a string list\n",
    "    ax.barh(ind - width+ 2*i*width, y, align='center', height=0.4, label=label_graph[i])\n",
    "    yticks(x, ytks)\n",
    "    xlabel('Frequency of Frequency')\n",
    "    ylabel('Word Frequency')\n",
    "    grid(True)\n",
    "    i=+1\n",
    "ax.set(yticks=ind, yticklabels = ytks, ylim=[2*width-1, 9])\n",
    "ax.legend()\n",
    "plt.show()"
   ]
  },
  {
   "cell_type": "markdown",
   "metadata": {},
   "source": [
    "As expected, the dictionary where we filter out everything that appears in less than 5% of the user tweet blocks has no words which repeats themselfs less than 100 times and very few with a frequency smaller than 200. For the most frequent words the frequencies are very similar in both documents because those words are likely not to be filtered out for any of the filters."
   ]
  },
  {
   "cell_type": "code",
   "execution_count": 16,
   "metadata": {},
   "outputs": [
    {
     "name": "stdout",
     "output_type": "stream",
     "text": [
      "Vocabulary size:  44639 \n",
      "Total number of tokens:  4549752 \n",
      "Lexical diversity:  0.009811304000745535\n"
     ]
    }
   ],
   "source": [
    "vocab = set(words_3)\n",
    "lexical_diversity = len(vocab)/len(words_3)\n",
    "print (\"Vocabulary size: \",len(vocab),\"\\nTotal number of tokens: \", len(words_3), \\\n",
    "\"\\nLexical diversity: \", lexical_diversity)"
   ]
  },
  {
   "cell_type": "markdown",
   "metadata": {},
   "source": [
    "### 6. Eliminate most common words for both men and women\n",
    "    As we are interested in keeping in our vocabulary the words that might help distinguish if a writer is a man or a woman, instead of eliminating the most common words, we eliminate only the ones that are common for both men and women. \n",
    "\n",
    "    To accomplish such task, we calculate the difference of percentage of occurence of words between men and women. We check the intersection between the male and female sets of words and only eliminate the words which belong to this intersection and have a small percentage difference in the relative occurence for genders, and at the same time are between the 10% most common words."
   ]
  },
  {
   "cell_type": "code",
   "execution_count": 17,
   "metadata": {},
   "outputs": [],
   "source": [
    "# create a list for male vocabulary and another list for female vocabulary\n",
    "male_words_list, female_words_list = [], []\n",
    "for k, v in tokenized_id.items(): # must be in the training dataset\n",
    "    if k in train_labels.index:\n",
    "        if train_labels.loc[k,'gender'] == 'male':\n",
    "            male_words_list.append(v) \n",
    "        if train_labels.loc[k,'gender'] == 'female':\n",
    "            female_words_list.append(v)"
   ]
  },
  {
   "cell_type": "code",
   "execution_count": 18,
   "metadata": {},
   "outputs": [
    {
     "name": "stdout",
     "output_type": "stream",
     "text": [
      "Male Vocabulary size:  39815 \n",
      "Male Total number of tokens:  1988836 \n",
      "Male Lexical diversity:  0.019456513612082643\n",
      "Female Vocabulary size:  37472 \n",
      "Female Total number of tokens:  1925936 \n",
      "Female Lexical diversity:  0.020019247439205645\n"
     ]
    }
   ],
   "source": [
    "# analysing the results\n",
    "male_words, female_words = list(chain.from_iterable(male_words_list)), list(chain.from_iterable(female_words_list))\n",
    "male_vocab, female_vocab = set(male_words), set(female_words)\n",
    "female_lexical_diversity, male_lexical_diversity = len(male_vocab)/len(male_words), len(female_vocab)/len(female_words)\n",
    "print (\"Male Vocabulary size: \",len(male_vocab),\"\\nMale Total number of tokens: \", len(male_words), \\\n",
    "\"\\nMale Lexical diversity: \", male_lexical_diversity)\n",
    "print (\"Female Vocabulary size: \",len(female_vocab),\"\\nFemale Total number of tokens: \", len(female_words), \\\n",
    "\"\\nFemale Lexical diversity: \", female_lexical_diversity)"
   ]
  },
  {
   "cell_type": "markdown",
   "metadata": {},
   "source": [
    "In terms of vocabulary size, lexical diversity and total number of tokens, men and women are very similar. Let's check the most frequent word occurences:"
   ]
  },
  {
   "cell_type": "code",
   "execution_count": 19,
   "metadata": {},
   "outputs": [
    {
     "name": "stdout",
     "output_type": "stream",
     "text": [
      "MALE:\n",
      " [('xusernamex', 123844), ('the', 72256), ('URL', 71391), ('to', 49518), ('a', 44060), ('of', 31244), ('in', 27912), ('i', 27683), ('and', 27624), ('is', 25537), ('for', 23855), ('you', 21637), ('on', 19561), ('it', 17761), ('this', 15690), ('that', 15142), ('with', 11902), ('be', 11632), ('my', 10543), ('at', 10132), ('not', 9854), ('have', 9398), ('are', 9245), ('but', 8863), ('from', 8185)]\n",
      "FEMALE:\n",
      " [('xusernamex', 109081), ('URL', 73994), ('the', 58857), ('to', 50395), ('a', 40100), ('i', 35800), ('and', 28588), ('of', 27423), ('you', 27188), ('for', 26500), ('in', 25728), ('is', 24077), ('this', 17489), ('on', 17192), ('my', 17111), ('it', 17078), ('that', 12768), ('so', 11580), ('with', 11453), ('be', 11022), ('your', 10164), ('me', 9957), ('have', 9867), ('are', 9828), ('at', 9293)]\n"
     ]
    }
   ],
   "source": [
    "# total of each word in all posts\n",
    "fd_1_m, fd_1_f = FreqDist(male_words), FreqDist(female_words)\n",
    "%matplotlib inline\n",
    "print(\"MALE:\\n\", fd_1_m.most_common(25))\n",
    "print(\"FEMALE:\\n\", fd_1_f.most_common(25))"
   ]
  },
  {
   "cell_type": "markdown",
   "metadata": {},
   "source": [
    "    We are not removing stopwords now, because women may use some stopwords more frequently than men and vice-versa. For instance, we had a hypothesis that women talk about themselves more often than men. In that case, words such as \"I\" and \"my\" would be more frequent in women's texts than men's. \n",
    "    \n",
    "    We can see this hypothesis proved true as \"I\" appears 27683 for male and 35800 for female. This is a huge relative difference as the total number of tokens for both genders is almost the same."
   ]
  },
  {
   "cell_type": "code",
   "execution_count": 20,
   "metadata": {},
   "outputs": [
    {
     "name": "stdout",
     "output_type": "stream",
     "text": [
      "MALE:\n",
      " [('on', 1548), ('the', 1548), ('to', 1548), ('a', 1547), ('for', 1546), ('in', 1546), ('and', 1545), ('of', 1543), ('URL', 1534), ('is', 1534), ('with', 1534), ('you', 1527), ('it', 1523), ('that', 1521), ('be', 1519), ('this', 1519), ('xusernamex', 1512), ('are', 1511), ('i', 1507), ('at', 1506), ('from', 1500), ('have', 1496), ('not', 1495), ('what', 1488), ('all', 1479)]\n",
      "FEMALE:\n",
      " [('to', 1545), ('the', 1543), ('a', 1543), ('for', 1541), ('in', 1540), ('of', 1540), ('is', 1537), ('and', 1537), ('URL', 1534), ('on', 1533), ('with', 1531), ('you', 1529), ('it', 1525), ('this', 1511), ('be', 1509), ('that', 1508), ('are', 1508), ('at', 1507), ('i', 1504), ('have', 1502), ('xusernamex', 1484), ('not', 1469), ('my', 1466), ('so', 1465), ('what', 1465)]\n"
     ]
    }
   ],
   "source": [
    "# total of posts where each word appears\n",
    "words_2_m = chain.from_iterable([set(value) for value in male_words_list]) \n",
    "words_2_f = chain.from_iterable([set(value) for value in female_words_list])\n",
    "fd_2_m, fd_2_f = FreqDist(words_2_m), FreqDist(words_2_f)\n",
    "print(\"MALE:\\n\", fd_2_m.most_common(25))\n",
    "print(\"FEMALE:\\n\", fd_2_f.most_common(25))"
   ]
  },
  {
   "cell_type": "markdown",
   "metadata": {},
   "source": [
    "Let's create a list of words to be removed based on the following rule:\n",
    "\n",
    "If the word over the total number of tokens for men differs in less than a threshold of word over the total number of tokens for women it means that they use the word with about the same frequency and so the word is not helpful to distinguish between male/female.\n",
    "\n",
    "We will define this threshold as the 50% quantile of the differences between %occurence of words."
   ]
  },
  {
   "cell_type": "code",
   "execution_count": 21,
   "metadata": {},
   "outputs": [],
   "source": [
    "def vocab_percentage(freq_dist_object):\n",
    "    \"\"\"\n",
    "        This function returns the frequency of words in terms of token percentages.\n",
    "    \"\"\"\n",
    "    vocab_size = len(freq_dist_object.keys())\n",
    "    vocab_10perc = int(round(vocab_size/10,0)) # just look for 10% most common words\n",
    "    words_10perc = freq_dist_object.most_common(vocab_10perc)\n",
    "    dictionary = {x[0]:(x[1] / freq_dist_object.N())*100 for x in words_10perc}\n",
    "    return (dictionary) "
   ]
  },
  {
   "cell_type": "code",
   "execution_count": 22,
   "metadata": {},
   "outputs": [
    {
     "name": "stdout",
     "output_type": "stream",
     "text": [
      "The maximum diff in terms of percentages of occurences is:  0.5770592986091096 \n",
      "The median diff in terms of percentages of occurences is:  0.00139761495921649\n"
     ]
    }
   ],
   "source": [
    "# applying the function above to calculate the relative frequency by gender\n",
    "male_percentages = vocab_percentage(fd_1_m)\n",
    "female_percentages =vocab_percentage(fd_1_f)\n",
    "# words in common:\n",
    "keys_f = set(female_percentages.keys())\n",
    "keys_m = set(male_percentages.keys())\n",
    "intersection = keys_m & keys_f\n",
    "# diff in percentage of words used by both male and female:\n",
    "percentage_diff = {key: abs(male_percentages[key] - female_percentages[key]) for key in intersection}\n",
    "print(\"The maximum diff in terms of percentages of occurences is: \", max(percentage_diff.values()),\n",
    "     \"\\nThe median diff in terms of percentages of occurences is: \", np.quantile(list(percentage_diff.values()), 0.5))"
   ]
  },
  {
   "cell_type": "code",
   "execution_count": 23,
   "metadata": {},
   "outputs": [
    {
     "data": {
      "text/plain": [
       "{'the': 0.5770592986091096,\n",
       " 'xusernamex': 0.5631673566335405,\n",
       " 'i': 0.4669167349601173,\n",
       " 'my': 0.35834205312581235,\n",
       " 'you': 0.323754446241,\n",
       " 'URL': 0.2523889823030623,\n",
       " 'so': 0.21852965090615423,\n",
       " 'for': 0.17650903747673707,\n",
       " 'me': 0.1714163505382194,\n",
       " 'more': 0.16647015260087172,\n",
       " 'of': 0.1470900593155473,\n",
       " 'your': 0.14465499389654424,\n",
       " 'a': 0.1332616803759099,\n",
       " 'to': 0.1268517217169931,\n",
       " 'this': 0.1191742821301206,\n",
       " 'love': 0.11833411094941532,\n",
       " 'that': 0.09839947647659075,\n",
       " 'and': 0.09541602227697443,\n",
       " 'thank': 0.09223437546634729,\n",
       " 'on': 0.09088325177571821,\n",
       " 'today': 0.08558122176539429,\n",
       " 'day': 0.06963325798217734,\n",
       " 'am': 0.06868363003700619,\n",
       " 'in': 0.06756403296210545,\n",
       " 'trump': 0.06591615001646789,\n",
       " 'from': 0.06319715584945368,\n",
       " 'he': 0.05601711269607623,\n",
       " 'game': 0.054993911091591303,\n",
       " 'when': 0.054846207586609075,\n",
       " 'her': 0.05314870229174762,\n",
       " 'happy': 0.051341256937180044,\n",
       " 'x': 0.04814510928520668,\n",
       " 'know': 0.046127318658223615,\n",
       " 'are': 0.045452567282735834,\n",
       " 'by': 0.04392058277548122,\n",
       " 'not': 0.04321805508168064,\n",
       " 'as': 0.042481600960107835,\n",
       " 'do': 0.0420853192267599,\n",
       " 'u': 0.03993794542901527,\n",
       " 'have': 0.03978461468822719,\n",
       " 'his': 0.03878664207690538,\n",
       " 's': 0.03859983029602852,\n",
       " 'want': 0.03576167920718751,\n",
       " 'life': 0.035078080020006744,\n",
       " 'much': 0.03499894627243222,\n",
       " 'how': 0.034995510469343294,\n",
       " 'need': 0.03413025607770365,\n",
       " 'oh': 0.03395790785718748,\n",
       " 'is': 0.03387200118839662,\n",
       " 'she': 0.033346798674457334,\n",
       " 'amazing': 0.032582343817659114,\n",
       " 'xx': 0.03182891442070494,\n",
       " 'team': 0.03160644165416078,\n",
       " 'man': 0.03065157734917412,\n",
       " 'feel': 0.030533973592884657,\n",
       " 'christmas': 0.030133996029406272,\n",
       " 'if': 0.029563067290295564,\n",
       " 'women': 0.02954298223769812,\n",
       " 'go': 0.02948379120663369,\n",
       " 'they': 0.029065032067478208,\n",
       " 'or': 0.028977922382013493,\n",
       " 'play': 0.02896909180102792,\n",
       " 'mate': 0.028951967297276143,\n",
       " 'beautiful': 0.02892772839101255,\n",
       " 'has': 0.028639720455734652,\n",
       " 'up': 0.02709073373053761,\n",
       " 'at': 0.026925084913552222,\n",
       " 'should': 0.026491260705699113,\n",
       " 'yes': 0.026388908005320455,\n",
       " 'lovely': 0.026325175690740936,\n",
       " 'excited': 0.025791794020990754,\n",
       " 'omg': 0.02578866586435327,\n",
       " 'liked': 0.025772320815154737,\n",
       " 'please': 0.025501919530154918,\n",
       " 'too': 0.025091544435587643,\n",
       " 'can': 0.0250907661297482,\n",
       " 'latest': 0.024851863935752713,\n",
       " 'video': 0.024445081913641663,\n",
       " 'little': 0.023995219154327674,\n",
       " 'really': 0.023433923425032546,\n",
       " 'help': 0.02338692473821434,\n",
       " 'may': 0.023301612163334623,\n",
       " 'than': 0.023273532793425575,\n",
       " 'birthday': 0.023168206908348983,\n",
       " 'good': 0.022936186658955943,\n",
       " 'our': 0.022613168641042652,\n",
       " 'years': 0.022271283520485616,\n",
       " 'someone': 0.022268629469377556,\n",
       " 'hair': 0.021627647252294824,\n",
       " 'cancer': 0.021488065467431674,\n",
       " 'work': 0.021014273745733253,\n",
       " 'such': 0.020604988049598365,\n",
       " 'well': 0.020262947957101735,\n",
       " 'any': 0.020223225537017997,\n",
       " 'heart': 0.020070823479153427,\n",
       " 'friends': 0.020005216568019103,\n",
       " 'players': 0.01997002624173972,\n",
       " 'wait': 0.01971064926787012,\n",
       " 'here': 0.0196975144561342,\n",
       " 'people': 0.01956254914332825,\n",
       " 'level': 0.019487081359324365,\n",
       " 'girls': 0.019184616755968796,\n",
       " 'we': 0.019121992219243045,\n",
       " 'hope': 0.019085934614016115,\n",
       " 'girl': 0.018815839826753944,\n",
       " 'home': 0.018752267078969355,\n",
       " 'would': 0.018526973802239166,\n",
       " 'games': 0.018255322403298198,\n",
       " 'win': 0.01823741385013783,\n",
       " 'cute': 0.01797537823030483,\n",
       " 'proud': 0.017821330587653308,\n",
       " 'him': 0.017555378166918864,\n",
       " 'football': 0.01742315013475996,\n",
       " 'now': 0.017416590769888857,\n",
       " 'miss': 0.017300069519748766,\n",
       " 'an': 0.017063122854419382,\n",
       " 'sleep': 0.01692034461665964,\n",
       " 'school': 0.016854737705525313,\n",
       " 'league': 0.016766842821938154,\n",
       " 'bed': 0.0167662183393245,\n",
       " 'morning': 0.016746983334967033,\n",
       " 'fun': 0.016727746033181893,\n",
       " 'rt': 0.016589571631627154,\n",
       " 'earned': 0.016572288709794287,\n",
       " 'get': 0.016535154341987185,\n",
       " 'wow': 0.01646852288253802,\n",
       " 'news': 0.016423086550967816,\n",
       " 'big': 0.016393997566023825,\n",
       " 'food': 0.01631619486450174,\n",
       " 'woman': 0.016274906643028476,\n",
       " 'baby': 0.015933811315449218,\n",
       " 'feeling': 0.01587946461949599,\n",
       " 'will': 0.015865926295917376,\n",
       " 'aquarius': 0.015754583447758257,\n",
       " 'some': 0.01574699264228932,\n",
       " 'made': 0.015720022198947886,\n",
       " 'no': 0.015699992806757324,\n",
       " 'point': 0.0153861176111364,\n",
       " 'against': 0.015380565563872555,\n",
       " 'lol': 0.015268903582123551,\n",
       " 't': 0.01526123643939866,\n",
       " 'week': 0.01524419401647202,\n",
       " 'w': 0.01519782210969517,\n",
       " 'family': 0.015151998348276012,\n",
       " 'all': 0.015113849770578613,\n",
       " 'myself': 0.015100231663602567,\n",
       " 'stop': 0.0150447909743616,\n",
       " 'wish': 0.014967453188658258,\n",
       " 'season': 0.014872050729141134,\n",
       " 'gorgeous': 0.014569195249795115,\n",
       " 'find': 0.01444345598882052,\n",
       " 'player': 0.01415654893911339,\n",
       " 'vs': 0.014074832882831408,\n",
       " 'top': 0.013707306067557712,\n",
       " 'were': 0.013484364939053292,\n",
       " 'its': 0.013478344529829205,\n",
       " 'playing': 0.013274173489863518,\n",
       " 'app': 0.013265181044655369,\n",
       " 'everyone': 0.012951222619495502,\n",
       " 'blog': 0.01283549001361933,\n",
       " 'im': 0.012723042833747908,\n",
       " 'god': 0.012682693633622805,\n",
       " 'ready': 0.01266478622917629,\n",
       " 'be': 0.012571554525527051,\n",
       " 'uk': 0.01253927827739722,\n",
       " 'last': 0.012515503138238501,\n",
       " 'then': 0.01250948272901442,\n",
       " 'fab': 0.012330962573476103,\n",
       " 'fuck': 0.01231712004958755,\n",
       " 'fans': 0.012312350903018455,\n",
       " 'lady': 0.0122464317505773,\n",
       " 'literally': 0.01220975770373356,\n",
       " 'care': 0.012005194639063584,\n",
       " 'better': 0.011973911923974928,\n",
       " 'because': 0.011972666404889101,\n",
       " 'these': 0.011972119408245246,\n",
       " 'after': 0.011869518167963472,\n",
       " 'down': 0.011779983443158545,\n",
       " 'okay': 0.011691311402445828,\n",
       " 'only': 0.011653224228724501,\n",
       " 'great': 0.011639850066796159,\n",
       " 'having': 0.011349200716262442,\n",
       " 'r': 0.011342865768303852,\n",
       " 'wonderful': 0.011325818750521872,\n",
       " 'played': 0.011324175463162585,\n",
       " 'night': 0.011318626862040243,\n",
       " 'there': 0.011293125205983245,\n",
       " 'post': 0.01127890099581498,\n",
       " 'everything': 0.011254503671470288,\n",
       " 'mum': 0.011177400641103983,\n",
       " 'tomorrow': 0.01116817458927262,\n",
       " 'book': 0.0110862237776536,\n",
       " 'friend': 0.011081844358361122,\n",
       " 'bad': 0.011037425682822712,\n",
       " 'ur': 0.011010606765279329,\n",
       " 'posted': 0.010931939082237368,\n",
       " 'watch': 0.01091520775190373,\n",
       " 'even': 0.010901680915463507,\n",
       " 'come': 0.01065981702390846,\n",
       " 'n': 0.010620482033673644,\n",
       " 'tax': 0.010592720648640593,\n",
       " 'donald': 0.010558391857739585,\n",
       " 'person': 0.010539939754076869,\n",
       " 'check': 0.010530165556887794,\n",
       " 'seems': 0.010493097187912089,\n",
       " 'loved': 0.010483168018783445,\n",
       " 'though': 0.010476127656099891,\n",
       " 'president': 0.010356174049012339,\n",
       " 'club': 0.010286735863943245,\n",
       " 'eat': 0.010285720505339133,\n",
       " 'sure': 0.010249668643681376,\n",
       " 'reading': 0.010236300225322254,\n",
       " 'watching': 0.010230514571435208,\n",
       " 'wrong': 0.010185626385222704,\n",
       " 'just': 0.010122927808668802,\n",
       " 'match': 0.010120098108772008,\n",
       " 'weekend': 0.010088586381915489,\n",
       " 'where': 0.01008764965799501,\n",
       " 'goal': 0.01002508882267302,\n",
       " 'probably': 0.010006086276224919,\n",
       " 'few': 0.009990211886414302,\n",
       " 'things': 0.009964019748912256,\n",
       " 'won': 0.009956509875554626,\n",
       " 'beer': 0.009921868843346789,\n",
       " 'data': 0.009895359869682568,\n",
       " 'sad': 0.009868383682771941,\n",
       " 'like': 0.009866594613183788,\n",
       " 'does': 0.00979323273493024,\n",
       " 'cheers': 0.009771652474630037,\n",
       " 'cry': 0.00968680941042441,\n",
       " 'keep': 0.009673986839995326,\n",
       " 'chocolate': 0.009619090849970553,\n",
       " 'them': 0.009611813434522276,\n",
       " 'wanna': 0.009530259242462907,\n",
       " 'yeah': 0.009504217482045094,\n",
       " 'hate': 0.009496713352256644,\n",
       " 'following': 0.0094030316660686,\n",
       " 'war': 0.009353141875377639,\n",
       " 'both': 0.009316075803829607,\n",
       " 'looks': 0.009288315567510391,\n",
       " 'sports': 0.009281982916979471,\n",
       " 'going': 0.009264002621418521,\n",
       " 'loving': 0.009252581690728647,\n",
       " 'case': 0.009248670633396416,\n",
       " 'enter': 0.009222397563783073,\n",
       " 'ppl': 0.00921708027185627,\n",
       " 'seen': 0.00918986588346709,\n",
       " 'their': 0.009163275977691565,\n",
       " 'other': 0.00910572478784491,\n",
       " 'make': 0.00910377615146181,\n",
       " 'tell': 0.009095954036797353,\n",
       " 'beauty': 0.009093294242120114,\n",
       " 'seriously': 0.009091105106830793,\n",
       " 'kids': 0.009062016121886798,\n",
       " 'beat': 0.009008606149854062,\n",
       " 'was': 0.008959797716598605,\n",
       " 'face': 0.008919384815069795,\n",
       " 'eu': 0.008859015412464807,\n",
       " 'city': 0.00874766222588112,\n",
       " 'gonna': 0.008739219074744516,\n",
       " 'about': 0.008716082202765485,\n",
       " 'money': 0.008715601204953051,\n",
       " 'teams': 0.008697304073229916,\n",
       " 'dress': 0.00869534969327764,\n",
       " 'still': 0.008688385667850032,\n",
       " 'actually': 0.008680494108212637,\n",
       " 'holiday': 0.008628491519488319,\n",
       " 'must': 0.008628098346070194,\n",
       " 'world': 0.008579849545310839,\n",
       " 'government': 0.008574925426802169,\n",
       " 'another': 0.008557798625622719,\n",
       " 'sex': 0.008517842598915755,\n",
       " 'fucking': 0.008470140794800275,\n",
       " 'web': 0.008432763630659248,\n",
       " 'brexit': 0.008430495860686301,\n",
       " 'dog': 0.008420409422190408,\n",
       " 'year': 0.008349879541261263,\n",
       " 'off': 0.008347759850944853,\n",
       " 'bro': 0.008247436719060577,\n",
       " 'shit': 0.008214827552774799,\n",
       " 'left': 0.008191211980411027,\n",
       " 'aw': 0.008125840973327577,\n",
       " 'election': 0.008120131656696485,\n",
       " 'one': 0.008103466325194264,\n",
       " 'automatically': 0.008067428248102543,\n",
       " 'points': 0.00798555492245331,\n",
       " 'books': 0.007977501498593317,\n",
       " 'hear': 0.007962879520151532,\n",
       " 'fabulous': 0.007959594094146795,\n",
       " 'same': 0.00795012984083688,\n",
       " 'd': 0.007945908839625496,\n",
       " 'crying': 0.007944423970347302,\n",
       " 'sister': 0.00791979189066557,\n",
       " 'dad': 0.00787201374929414,\n",
       " 'yay': 0.0078684947166662,\n",
       " 'dinner': 0.007867087333357791,\n",
       " 'final': 0.007804294040126445,\n",
       " 'over': 0.007766756160476659,\n",
       " 'ireland': 0.007754404249435489,\n",
       " 'stay': 0.007753858401505456,\n",
       " 'sweet': 0.007722188256567845,\n",
       " 'hi': 0.007707487643442434,\n",
       " 'out': 0.007697487880627019,\n",
       " 'china': 0.007672375951846672,\n",
       " 'hello': 0.007583857734359694,\n",
       " 'which': 0.007579554652323163,\n",
       " 'website': 0.007566653447210454,\n",
       " 'getting': 0.0075636848573679,\n",
       " 'feels': 0.007552891855433204,\n",
       " 'result': 0.0075418652468753076,\n",
       " 'through': 0.007529512187120314,\n",
       " 'followed': 0.007484391542998438,\n",
       " 'checked': 0.007483375035680487,\n",
       " 'doing': 0.0074788406444484395,\n",
       " 'deal': 0.00747672669770123,\n",
       " 'ok': 0.00746210586797328,\n",
       " 'mobile': 0.00745279888403062,\n",
       " 'paper': 0.007437784880884538,\n",
       " 'state': 0.00740650561193738,\n",
       " 'sharing': 0.007402440731379415,\n",
       " 'during': 0.007364670393820254,\n",
       " 'trade': 0.007358180473922086,\n",
       " 'system': 0.00733495577754876,\n",
       " 'cat': 0.007324869339052867,\n",
       " 'tea': 0.007324243707725371,\n",
       " 'market': 0.00731814351510382,\n",
       " 'chance': 0.007302894756620694,\n",
       " 'exciting': 0.007294685212107293,\n",
       " 'makes': 0.007275997204393696,\n",
       " 'eating': 0.007256525147271514,\n",
       " 'unfollowed': 0.00724463930076292,\n",
       " 'again': 0.007241821088004599,\n",
       " 'making': 0.007231659460966572,\n",
       " 'had': 0.007205935685424769,\n",
       " 'america': 0.007185442526129297,\n",
       " 'public': 0.007172149296312297,\n",
       " 'voted': 0.007150254497277585,\n",
       " 'cup': 0.007144937205350785,\n",
       " 'rn': 0.007141966318080556,\n",
       " 'wedding': 0.007112016946472021,\n",
       " 'room': 0.007075968530955774,\n",
       " 'cake': 0.007042656247372715,\n",
       " 'west': 0.00703882382472411,\n",
       " 'perfect': 0.0070072334631839615,\n",
       " 'join': 0.007001290539929667,\n",
       " 'apple': 0.007000272883897879,\n",
       " 'liverpool': 0.006963754957707548,\n",
       " 'decent': 0.0069417815239892185,\n",
       " 'united': 0.006927393152170634,\n",
       " 'use': 0.006881177366047195,\n",
       " 'sorry': 0.006857721360478339,\n",
       " 'far': 0.006852948767767736,\n",
       " 'together': 0.006851465047203371,\n",
       " 'stuff': 0.006841297676596171,\n",
       " 'sick': 0.0068391096900206946,\n",
       " 'policy': 0.006818386370243519,\n",
       " 'pls': 0.006813226347683969,\n",
       " 'next': 0.006807905609615653,\n",
       " 'gift': 0.0067951628225840326,\n",
       " 'mom': 0.006790627282638141,\n",
       " 'round': 0.006780851936735237,\n",
       " 'm': 0.00677092047017892,\n",
       " 'tips': 0.006761303542357103,\n",
       " 'design': 0.0067574711197084985,\n",
       " 'yourself': 0.0067449607905862435,\n",
       " 'mine': 0.006708989861039783,\n",
       " 'tweet': 0.00669843161444213,\n",
       " 'nearly': 0.006668952902221517,\n",
       " 'political': 0.006666918738871775,\n",
       " 'least': 0.0066625393195793026,\n",
       " 'don': 0.006652999877727274,\n",
       " 'fight': 0.006602875331699273,\n",
       " 'bet': 0.006601702703727904,\n",
       " 'john': 0.00658316966795389,\n",
       " 'found': 0.0065644041742705,\n",
       " 'question': 0.0065634640042085,\n",
       " 'used': 0.006546573107079932,\n",
       " 'fine': 0.006533123756609513,\n",
       " 'but': 0.006526384148094422,\n",
       " 'child': 0.006523662949441112,\n",
       " 'lads': 0.006499108355729169,\n",
       " 'under': 0.006474788517354266,\n",
       " 'most': 0.006465481533411616,\n",
       " 'surely': 0.006462355674201799,\n",
       " 'read': 0.006451958143112904,\n",
       " 'being': 0.00641270408498941,\n",
       " 'think': 0.0064045628367351,\n",
       " 'honestly': 0.006395810890433146,\n",
       " 'album': 0.0063447473230569835,\n",
       " 'etc': 0.0063309845825659,\n",
       " 'lunch': 0.006326841067324302,\n",
       " 'country': 0.006312607667445288,\n",
       " 'social': 0.006307448793599586,\n",
       " 'anyone': 0.006304477906329348,\n",
       " 'it': 0.0062972515564327924,\n",
       " 'congratulations': 0.006292590911106918,\n",
       " 'also': 0.006289928819002005,\n",
       " 'internet': 0.006265924668075443,\n",
       " 'two': 0.006264828377360025,\n",
       " 'fair': 0.00625317843490231,\n",
       " 'mark': 0.006238243066439853,\n",
       " 'v': 0.006237147924438278,\n",
       " 'looking': 0.006210016765588078,\n",
       " 'media': 0.006201958746872731,\n",
       " 'wine': 0.006186868406470697,\n",
       " 'shop': 0.006185851899152746,\n",
       " 'says': 0.006156916737434487,\n",
       " 'parents': 0.006155667772207171,\n",
       " 'favourite': 0.006151445622281947,\n",
       " 'living': 0.006105230984872341,\n",
       " 'weird': 0.006074421226599271,\n",
       " 'russian': 0.006068869179335428,\n",
       " 'score': 0.006064645880696365,\n",
       " 'similar': 0.00604329807830553,\n",
       " 'liberals': 0.006008422290760651,\n",
       " 'look': 0.005994193485737001,\n",
       " 'awesome': 0.005990829425048638,\n",
       " 'ideas': 0.005978160677845288,\n",
       " 'nice': 0.0059646303952635635,\n",
       " 'instagram': 0.005944066642281321,\n",
       " 'coach': 0.0059384359603338495,\n",
       " 'mr': 0.005936949942341816,\n",
       " 'already': 0.005927881159877704,\n",
       " 'share': 0.00591294464270142,\n",
       " 'global': 0.005908642709378733,\n",
       " 'grateful': 0.00588987606698151,\n",
       " 'ball': 0.005887920538315393,\n",
       " 'every': 0.005885733700453755,\n",
       " 'health': 0.005881978763774932,\n",
       " 'way': 0.005835212534866116,\n",
       " 'agree': 0.005827473649740615,\n",
       " 'star': 0.0058265357771062915,\n",
       " 'end': 0.0058130066432384095,\n",
       " 'price': 0.005800496314116153,\n",
       " 'shopping': 0.005794866780882521,\n",
       " 'hopefully': 0.005783840172324622,\n",
       " 'piece': 0.005759598968633348,\n",
       " 'south': 0.005755532939361537,\n",
       " 'front': 0.005745680107488849,\n",
       " 'problem': 0.00573434125762412,\n",
       " 'although': 0.005725115205792761,\n",
       " 'class': 0.005724488425751427,\n",
       " 'sometimes': 0.005719797913865959,\n",
       " 'pro': 0.005718624137180755,\n",
       " 'ever': 0.005702909314165075,\n",
       " 'y': 0.005692663308874242,\n",
       " 'cannot': 0.005681012217702687,\n",
       " 'many': 0.0056746749723164125,\n",
       " 'thinking': 0.005671863651841115,\n",
       " 'uni': 0.005662479181928666,\n",
       " 'days': 0.005660135074699771,\n",
       " 'politics': 0.005659272390607557,\n",
       " 'irish': 0.0056537203433437155,\n",
       " 'us': 0.005646130686588646,\n",
       " 'half': 0.005618765921115206,\n",
       " 'wins': 0.005595072862781639,\n",
       " 'fave': 0.00558756643556552,\n",
       " 'bless': 0.005558633571274937,\n",
       " 'labour': 0.005558554936591312,\n",
       " 'record': 0.005556052411281324,\n",
       " 'future': 0.0055329838355614135,\n",
       " 'given': 0.005514998945145105,\n",
       " 'welcome': 0.005509291925941684,\n",
       " 'cars': 0.0055017057153281,\n",
       " 'snapchat': 0.005490915010821083,\n",
       " 'first': 0.005465105708312615,\n",
       " 'available': 0.005441728337427409,\n",
       " 'meet': 0.005434144424241498,\n",
       " 'inauguration': 0.0054189731517281636,\n",
       " 'skin': 0.0054110758485215885,\n",
       " 'moves': 0.005378858706940108,\n",
       " 'could': 0.005376978366816096,\n",
       " 'tears': 0.005373932291003763,\n",
       " 'feelings': 0.0053706480137128655,\n",
       " 'official': 0.005369318116374247,\n",
       " 'drink': 0.005348518459341121,\n",
       " 'climate': 0.00533193980351938,\n",
       " 'shot': 0.005324745617610087,\n",
       " 'b': 0.00531903859840667,\n",
       " 'trying': 0.005318726357099839,\n",
       " 'bit': 0.005280641480806175,\n",
       " 'words': 0.005276968624952496,\n",
       " 'performance': 0.005269773290329367,\n",
       " 'dance': 0.005264143757095736,\n",
       " 'ladies': 0.005255307432540994,\n",
       " 'inspired': 0.005240528184731955,\n",
       " 'scotland': 0.005237165272757432,\n",
       " 'tired': 0.005230910108196303,\n",
       " 'community': 0.00523075283882905,\n",
       " 'guy': 0.005228797310162937,\n",
       " 'lot': 0.005226685660843403,\n",
       " 'pic': 0.005218398630360209,\n",
       " 'white': 0.005217223704961166,\n",
       " 'wonder': 0.005211828927064576,\n",
       " 'gets': 0.005209952033082086,\n",
       " 'see': 0.005208551542056683,\n",
       " 'those': 0.005204164081767354,\n",
       " 'petition': 0.005202993751223676,\n",
       " 'immigration': 0.005195877051284173,\n",
       " 'steve': 0.005187901113393969,\n",
       " 'stand': 0.005173513890289222,\n",
       " 'full': 0.005168038180281324,\n",
       " 'building': 0.005152164939184552,\n",
       " 'chelsea': 0.005143798125303892,\n",
       " 'states': 0.005142937738639355,\n",
       " 'soon': 0.005133790321491624,\n",
       " 'manager': 0.0051142396296858135,\n",
       " 'been': 0.005094304954172568,\n",
       " 'greatest': 0.005084055502740241,\n",
       " 'mental': 0.0050626302143796185,\n",
       " 'personal': 0.0050626302143796185,\n",
       " 'friday': 0.005049571739899648,\n",
       " 'mood': 0.005039405518006293,\n",
       " 'thanks': 0.005038003878267083,\n",
       " 'title': 0.0050294740514499735,\n",
       " 'rather': 0.005027362402130442,\n",
       " 've': 0.00499498913989555,\n",
       " 'four': 0.004988811461304211,\n",
       " 'power': 0.0049874815639655914,\n",
       " 'foreign': 0.004986778446668305,\n",
       " 'yesterday': 0.004983886194081702,\n",
       " 'bill': 0.004964570257612936,\n",
       " 'believe': 0.004924691716875755,\n",
       " 'imagine': 0.0049192160068678645,\n",
       " 'run': 0.004916869602211289,\n",
       " 'important': 0.004906549557092195,\n",
       " 'clinton': 0.004897712083823615,\n",
       " 'until': 0.004896931480556546,\n",
       " 'winning': 0.004892160036559773,\n",
       " 'second': 0.004886138478621849,\n",
       " 'based': 0.004884965850650482,\n",
       " 'build': 0.004884340219322986,\n",
       " 'emotional': 0.004875426408798456,\n",
       " 'security': 0.004830775275350672,\n",
       " 'sell': 0.004824441476105917,\n",
       " 'major': 0.004820531567487523,\n",
       " 'finally': 0.0048203765955479455,\n",
       " 'say': 0.004813340827719739,\n",
       " 'came': 0.004811696391646622,\n",
       " 'laugh': 0.004810601249645041,\n",
       " 'followers': 0.004810210373654587,\n",
       " 'sport': 0.0048059870750155245,\n",
       " 'learn': 0.0048051278370648265,\n",
       " 'said': 0.004797070967063319,\n",
       " 'men': 0.0047815122647010475,\n",
       " 'pal': 0.004770485656143148,\n",
       " 'everyday': 0.0047557850430177346,\n",
       " 'date': 0.004746792597809581,\n",
       " 'huge': 0.0047464005731052885,\n",
       " 'wearing': 0.004746166966482083,\n",
       " 'healthy': 0.004743273565181643,\n",
       " 'wall': 0.004738815511205538,\n",
       " 'drunk': 0.004731152963336004,\n",
       " 'version': 0.004729823065997384,\n",
       " 'actual': 0.004715591963546052,\n",
       " 'guess': 0.004711680906213822,\n",
       " 'single': 0.004695729030433415,\n",
       " 'quality': 0.004687753092543213,\n",
       " 'best': 0.004677044468861344,\n",
       " 'means': 0.004674146472705542,\n",
       " 'hours': 0.00465905613230351,\n",
       " 'enough': 0.0046311374779032105,\n",
       " 'within': 0.004621676670734806,\n",
       " 'minutes': 0.004615655112796883,\n",
       " 'david': 0.00460893043756167,\n",
       " 'cause': 0.004587583783884675,\n",
       " 'brother': 0.004584455627247191,\n",
       " 'whole': 0.004576949200031072,\n",
       " 'space': 0.0045662348327800036,\n",
       " 'via': 0.004555373534586266,\n",
       " 'liberal': 0.0045348780778630615,\n",
       " 'side': 0.004529247395915592,\n",
       " 'hot': 0.0044975009137220336,\n",
       " 'happening': 0.004492730618439101,\n",
       " 'local': 0.004462389222126275,\n",
       " 'awake': 0.00444690685701995,\n",
       " 'evidence': 0.004418911865363695,\n",
       " 'stupid': 0.004418677110026652,\n",
       " 'joy': 0.004416957485411416,\n",
       " 'watched': 0.004410858441503702,\n",
       " 'excellent': 0.004404288738208069,\n",
       " 'apps': 0.004399440956955349,\n",
       " 'coffee': 0.0043956883177042085,\n",
       " 'sold': 0.004394905417009459,\n",
       " 'scorpio': 0.004379813927893591,\n",
       " 'long': 0.004367925783957317,\n",
       " 'north': 0.004357527104154593,\n",
       " 'sitting': 0.004356433110866853,\n",
       " 'asleep': 0.004347987662302568,\n",
       " 'clothes': 0.00434470338501167,\n",
       " 'bbc': 0.004338447071736704,\n",
       " 'expect': 0.004335788425773303,\n",
       " 'creative': 0.004332191907175576,\n",
       " 'forever': 0.004315379644730632,\n",
       " 'g': 0.004306778075512933,\n",
       " 'dreams': 0.004304901181530443,\n",
       " 'free': 0.004304355333600407,\n",
       " 'missed': 0.00430333767756862,\n",
       " 'bitch': 0.004298332626948648,\n",
       " 'less': 0.004296298463598906,\n",
       " 'release': 0.004285507759091888,\n",
       " 'winter': 0.0042669758720317065,\n",
       " 'sky': 0.004259859172092203,\n",
       " 'line': 0.004241717012308639,\n",
       " 'definitely': 0.0042368703797697575,\n",
       " 'felt': 0.004236791745086132,\n",
       " 'american': 0.004231238549108455,\n",
       " 'hour': 0.004210987037433032,\n",
       " 'tech': 0.004207310735437843,\n",
       " 'old': 0.004196987244177226,\n",
       " 'ugh': 0.004189560600358572,\n",
       " 'seeing': 0.004165241910697507,\n",
       " 'form': 0.0041625821160202695,\n",
       " 'children': 0.004139749444351236,\n",
       " 'might': 0.004138343209756673,\n",
       " 'software': 0.004129974098448335,\n",
       " 'sense': 0.004116367478610661,\n",
       " 'written': 0.00409525443155687,\n",
       " 'idiot': 0.004087278493666666,\n",
       " 'waiting': 0.004079459825143711,\n",
       " 'cream': 0.004069293603250357,\n",
       " 'remember': 0.004062489144617685,\n",
       " 'rule': 0.004052793582112243,\n",
       " 'issue': 0.004052324071438162,\n",
       " 'yr': 0.0040344178157054765,\n",
       " 'coming': 0.004028551229707127,\n",
       " 'pizza': 0.004021280706541885,\n",
       " 'police': 0.004009863221993534,\n",
       " 'million': 0.004004311174729691,\n",
       " 'centre': 0.0040002451454578805,\n",
       " 'administration': 0.00399922863813993,\n",
       " 'cats': 0.003996022995532658,\n",
       " 'three': 0.003994849218847452,\n",
       " 'eyes': 0.003990940458942898,\n",
       " 'kind': 0.003971313429881138,\n",
       " 'pics': 0.003966073623924125,\n",
       " 'call': 0.003960441793262812,\n",
       " 'wear': 0.0039492613614791824,\n",
       " 'road': 0.003948478460784435,\n",
       " 'wake': 0.003942692806897387,\n",
       " 'executive': 0.003941753785549223,\n",
       " 'super': 0.003930259963744923,\n",
       " 'drinking': 0.003923064629121788,\n",
       " 'gender': 0.003922752387814959,\n",
       " 'dream': 0.003922596267161545,\n",
       " 'dogs': 0.003917435095888156,\n",
       " 'either': 0.003913367917902512,\n",
       " 'sort': 0.003910553151285696,\n",
       " 'bye': 0.0039085987713334165,\n",
       " 'e': 0.003905158373389105,\n",
       " 'double': 0.003904610228031396,\n",
       " 'chicken': 0.003903281479406615,\n",
       " 'bullshit': 0.0038927243815227996,\n",
       " 'totally': 0.003889597373599153,\n",
       " 'paul': 0.003880603779677162,\n",
       " 'goodness': 0.0038790402757153384,\n",
       " 'done': 0.003878573062468943,\n",
       " 'sleeping': 0.0038773981370698904,\n",
       " 'crowd': 0.0038734095937678695,\n",
       " 'nothing': 0.0038711406750810903,\n",
       " 'jobs': 0.0038688740538219794,\n",
       " 'force': 0.0038674666705135717,\n",
       " 'plenty': 0.0038533130540320286,\n",
       " 'what': 0.0038483992739478667,\n",
       " 'code': 0.0038352495289320915,\n",
       " 'number': 0.0038271949563582607,\n",
       " 'test': 0.003823128927086453,\n",
       " 'kitchen': 0.0038228166857796238,\n",
       " 'tough': 0.003820861157113508,\n",
       " 'library': 0.0038070209306526326,\n",
       " 'podcast': 0.003803032387350612,\n",
       " 'himself': 0.0038017811246956208,\n",
       " 'shows': 0.0038009207380310817,\n",
       " 'writing': 0.003797011978126527,\n",
       " 'google': 0.003793961307458831,\n",
       " 'aye': 0.003792788679487464,\n",
       " 'intelligence': 0.0037911465408420153,\n",
       " 'sir': 0.003779025938996378,\n",
       " 'usa': 0.003773239136395495,\n",
       " 'scottish': 0.0037714408770966306,\n",
       " 'with': 0.0037686054336306674,\n",
       " 'list': 0.003768548624510027,\n",
       " 'zero': 0.0037648723225148354,\n",
       " 'got': 0.003760732253414764,\n",
       " 'standard': 0.0037490765673878447,\n",
       " 'cost': 0.003742273257469008,\n",
       " 'cold': 0.003741414019518309,\n",
       " 'inspiring': 0.003741335384834683,\n",
       " 'tbh': 0.003739928001526274,\n",
       " 'female': 0.003737034600225831,\n",
       " 'always': 0.0037294518357537665,\n",
       " 'interesting': 0.0037292136342752073,\n",
       " 'amount': 0.0037267908923626835,\n",
       " 'mexico': 0.0037254609950240648,\n",
       " 'nation': 0.0037100561158875285,\n",
       " 'british': 0.0037067718385966307,\n",
       " 'shite': 0.0037063809626061753,\n",
       " 'industry': 0.003700203284014836,\n",
       " 'wars': 0.0036948859920880334,\n",
       " 'cunt': 0.003690585207479185,\n",
       " 'give': 0.0036868337169418813,\n",
       " 'save': 0.0036806548896366996,\n",
       " 'race': 0.0036673605111058587,\n",
       " 'sign': 0.0036575088279470064,\n",
       " 'voice': 0.003656413685945428,\n",
       " 'body': 0.003656413685945428,\n",
       " 'nazis': 0.0036485152340250135,\n",
       " 'fact': 0.0036461688293684437,\n",
       " 'de': 0.003639678909470272,\n",
       " 'tonight': 0.003629046623044349,\n",
       " 'alone': 0.003612701573845807,\n",
       " 'dropped': 0.003612388183825139,\n",
       " 'monday': 0.0036106685592099032,\n",
       " 'scary': 0.0036065238952544664,\n",
       " 'australian': 0.0036043336112513095,\n",
       " 'built': 0.0036041774905978953,\n",
       " 'thats': 0.0036035518592703996,\n",
       " 'arrived': 0.0036032396179635695,\n",
       " 'march': 0.0035981570813738064,\n",
       " 'numbers': 0.003592056888752258,\n",
       " 'example': 0.003592056888752258,\n",
       " 'field': 0.0035877561041434075,\n",
       " 'art': 0.0035833778335647697,\n",
       " 'blame': 0.003578919779588667,\n",
       " 'massive': 0.003575009870970273,\n",
       " 'bought': 0.0035712572317191313,\n",
       " 'wife': 0.0035707090863614233,\n",
       " 'plan': 0.0035678168337748215,\n",
       " 'classic': 0.0035614818858162277,\n",
       " 'choose': 0.0035578853672184997,\n",
       " 'perhaps': 0.003550377791288542,\n",
       " 'retweet': 0.0035434969953999176,\n",
       " 'exactly': 0.0035355996921933412,\n",
       " 'update': 0.003531688634861108,\n",
       " 'science': 0.003531063003533612,\n",
       " 'singing': 0.003527701240272926,\n",
       " 'fake': 0.0035244944489518162,\n",
       " 'went': 0.00352394860102178,\n",
       " 'wales': 0.0035210540510075047,\n",
       " 'forgot': 0.003513156747800927,\n",
       " 'bus': 0.0035130006271475132,\n",
       " 'bar': 0.003512608602443219,\n",
       " 'relationships': 0.003507369945200044,\n",
       " 'service': 0.003496734212632604,\n",
       " 'yet': 0.0034907935868059847,\n",
       " 'inspiration': 0.0034882899127821544,\n",
       " 'review': 0.003487350891433991,\n",
       " 'lots': 0.003479766978248082,\n",
       " 'dude': 0.0034793749535437886,\n",
       " 'fb': 0.0034790627122369593,\n",
       " 'started': 0.003475466193639233,\n",
       " 'animals': 0.00346694211039132,\n",
       " 'earth': 0.0034668634757076943,\n",
       " 'tree': 0.003466551234400866,\n",
       " 'classy': 0.0034587314171640768,\n",
       " 'bring': 0.0034580282998667895,\n",
       " 'japan': 0.0034506768445902477,\n",
       " 'hockey': 0.0034473925672993504,\n",
       " 'context': 0.0034473925672993504,\n",
       " 'celebrate': 0.00344684557065548,\n",
       " 'clearly': 0.0034448900419893624,\n",
       " 'breakfast': 0.00342674903091964,\n",
       " 'crazy': 0.003422683001647827,\n",
       " 'gave': 0.0034171309543839894,\n",
       " 'recent': 0.003416582809026278,\n",
       " 'suspect': 0.0034145497943903736,\n",
       " 'voters': 0.003413924163062878,\n",
       " 'journey': 0.0034129862904285517,\n",
       " 'spicer': 0.0034129076557449256,\n",
       " 'advice': 0.0034060268598563002,\n",
       " 'killing': 0.003405401228528804,\n",
       " 'o': 0.0034042286005574393,\n",
       " 'ago': 0.003402897554504982,\n",
       " 'sending': 0.0034014913199104093,\n",
       " 'machine': 0.003401412685226784,\n",
       " 'pc': 0.003397111900617935,\n",
       " 'dear': 0.0033964087833206497,\n",
       " 'wing': 0.0033905433460361387,\n",
       " 'article': 0.00338796218604253,\n",
       " 'works': 0.003384521788098215,\n",
       " 'report': 0.00338225401812527,\n",
       " 'returns': 0.0033806905141634466,\n",
       " 'busy': 0.0033803782728566174,\n",
       " 'higher': 0.003371854189608705,\n",
       " 'adult': 0.003368022915673938,\n",
       " 'hang': 0.003365364269710538,\n",
       " 'bday': 0.003364738638383041,\n",
       " 'idea': 0.0033645050317598416,\n",
       " 'opinion': 0.0033607500950810203,\n",
       " 'events': 0.0033584048391382864,\n",
       " 'popular': 0.0033554328031542187,\n",
       " 'rugby': 0.0033429213253181244,\n",
       " 'babies': 0.0033417486973467574,\n",
       " 'saw': 0.003341280335386519,\n",
       " 'away': 0.0033354912353579583,\n",
       " 'richard': 0.003331426354799982,\n",
       " 'near': 0.003326265183526597,\n",
       " 'europe': 0.0033232156615727385,\n",
       " 'take': 0.003321733089722209,\n",
       " 'break': 0.0033135200990672964,\n",
       " 'giveaway': 0.0033128158330561755,\n",
       " 'general': 0.003307810782436204,\n",
       " 'vote': 0.0033052296224425903,\n",
       " 'annoying': 0.00330358863251098,\n",
       " 'former': 0.0032996000892089603,\n",
       " 'lose': 0.0032944389179355715,\n",
       " 'powerful': 0.0032933449246478324,\n",
       " 'entered': 0.0032931101693107903,\n",
       " 'human': 0.0032845872347767174,\n",
       " 'england': 0.0032827878267640163,\n",
       " 'bike': 0.0032745771335367727,\n",
       " 'wanted': 0.0032741087715765296,\n",
       " 'border': 0.003268008578954976,\n",
       " 'standing': 0.00326441206035725,\n",
       " 'time': 0.00326222981735097,\n",
       " 'dead': 0.003259328375053652,\n",
       " 'pay': 0.003257216725734119,\n",
       " 'mother': 0.0032512749511936596,\n",
       " 'natural': 0.0032500236885386665,\n",
       " 'jealous': 0.0032444716412748237,\n",
       " 'main': 0.003243376499273246,\n",
       " 'analysis': 0.0032423599919552933,\n",
       " 'cc': 0.0032407178533098444,\n",
       " 'told': 0.0032404842466866417,\n",
       " 'network': 0.0032400922219823483,\n",
       " 'emotions': 0.003239545225338477,\n",
       " 'boys': 0.00323923183531781,\n",
       " 'wtf': 0.003237121334712118,\n",
       " 'fire': 0.003236338434017369,\n",
       " 'radio': 0.0032361823133639526,\n",
       " 'woke': 0.0032352444407296285,\n",
       " 'drop': 0.0032312558974276076,\n",
       " 'quick': 0.0032174931569365194,\n",
       " 'refugee': 0.003204904193130638,\n",
       " 'talking': 0.0031970068899240603,\n",
       " 'send': 0.00319325310195908,\n",
       " 'cheese': 0.0031921579599575043,\n",
       " 'joke': 0.0031912189386093404,\n",
       " 'claim': 0.003185510770692083,\n",
       " 'band': 0.003181600862073688,\n",
       " 'gym': 0.003180272113448906,\n",
       " 'serious': 0.003179723968091198,\n",
       " 'reality': 0.003178081829445749,\n",
       " 'wheel': 0.0031767530808209676,\n",
       " 'theory': 0.0031762835701468857,\n",
       " 'position': 0.0031756579388193895,\n",
       " 'pub': 0.0031746414315014376,\n",
       " 'stream': 0.0031733901688464437,\n",
       " 'signing': 0.0031729992928559887,\n",
       " 'la': 0.0031726870515491595,\n",
       " 'ban': 0.0031709651295062508,\n",
       " 'soul': 0.0031708101575666702,\n",
       " 'weeks': 0.0031672136389689423,\n",
       " 'talented': 0.003166900248948276,\n",
       " 'whatever': 0.0031622860743187597,\n",
       " 'hey': 0.0031621288049515084,\n",
       " 'low': 0.003161660442991262,\n",
       " 'biggest': 0.0031557175197369624,\n",
       " 'national': 0.003151963731771984,\n",
       " 'anxiety': 0.003148836723848339,\n",
       " 'times': 0.0031395297399056804,\n",
       " 'lucky': 0.003115837830285949,\n",
       " 'lil': 0.003100198195812372,\n",
       " 'success': 0.003097226159828303,\n",
       " 'image': 0.0030958187765198963,\n",
       " 'cricket': 0.003093785761883991,\n",
       " 'glad': 0.003090658753960345,\n",
       " 'losing': 0.003084323806001755,\n",
       " 'plays': 0.0030740800981386065,\n",
       " 'teacher': 0.00307126533152179,\n",
       " 'gun': 0.003065869404911362,\n",
       " 'bc': 0.003063132124264333,\n",
       " 'merry': 0.003062898517641131,\n",
       " 'nights': 0.0030620381309765946,\n",
       " 'mike': 0.003061959496292968,\n",
       " 'itself': 0.0030603173576475183,\n",
       " 'workout': 0.003054843945067303,\n",
       " 'teachers': 0.003053201806421854,\n",
       " 'forward': 0.003050072501070533,\n",
       " 'spot': 0.0030485876317923374,\n",
       " 'effect': 0.0030478058798114253,\n",
       " 'doubt': 0.003036701785283741,\n",
       " 'fashion': 0.003035138281321917,\n",
       " 'simon': 0.0030336522633298835,\n",
       " 'eve': 0.0030248945734587685,\n",
       " 'stunning': 0.0030232524348133205,\n",
       " 'potential': 0.0030198895228387953,\n",
       " 'pain': 0.0030113665883047223,\n",
       " 'something': 0.0030034704338119875,\n",
       " 'finding': 0.002995961709168187,\n",
       " 'traffic': 0.0029919731658661674,\n",
       " 'daughter': 0.0029893931545863913,\n",
       " 'james': 0.0029864211186023245,\n",
       " 'showing': 0.0029831368413114267,\n",
       " 'billion': 0.002981729458003019,\n",
       " 'smith': 0.00298008731935757,\n",
       " 'weather': 0.0029744577861239383,\n",
       " 'yo': 0.002971329629486455,\n",
       " 'attacks': 0.0029685923488394278,\n",
       " 'enjoy': 0.0029638232022703367,\n",
       " 'return': 0.002956862622984245,\n",
       " 'campaign': 0.002952327083038355,\n",
       " 'sydney': 0.0029484183231337988,\n",
       " 'correct': 0.002941692499184751,\n",
       " 'draw': 0.002937391714575901,\n",
       " 'ate': 0.0029362190866045346,\n",
       " 'knew': 0.002917608564860728,\n",
       " 'votes': 0.0029160439121850663,\n",
       " 'russia': 0.002911508372239177,\n",
       " 'learning': 0.0029077557329880363,\n",
       " 'term': 0.0029072075876303274,\n",
       " 'gorsuch': 0.0029035324343489742,\n",
       " 'joe': 0.0029029068030214777,\n",
       " 'credit': 0.002898996894403081,\n",
       " 'rules': 0.0028907862011758384,\n",
       " 'acts': 0.0028875805585685675,\n",
       " 'card': 0.002883749284633799,\n",
       " 'tiny': 0.0028789789893508685,\n",
       " 'costs': 0.0028680310154765966,\n",
       " 'screen': 0.0028667797528216035,\n",
       " 'michael': 0.0028661541214941074,\n",
       " 'germany': 0.002864746738185699,\n",
       " 'maybe': 0.0028645108341348174,\n",
       " 'muslim': 0.0028577086729298234,\n",
       " 'hanging': 0.002855363416987089,\n",
       " 'congrats': 0.0028420690384562443,\n",
       " 'martin': 0.0028417567971494168,\n",
       " 'breaking': 0.0028415220418123756,\n",
       " 'extra': 0.0028381602785516897,\n",
       " 'debt': 0.0028308874579587714,\n",
       " 'facts': 0.002830808823275145,\n",
       " 'windows': 0.0028243189033769767,\n",
       " 'milk': 0.002816577720823814,\n",
       " 'hiring': 0.002814466071504284,\n",
       " 'name': 0.002810557311599734,\n",
       " 'sunday': 0.0028070382789717914,\n",
       " 'month': 0.002805787016316799,\n",
       " 'changed': 0.0028043784842945504,\n",
       " 'washington': 0.0028021107143216036,\n",
       " 'platform': 0.002801328962340694,\n",
       " 'saturday': 0.002800234969052951,\n",
       " 'bath': 0.0027837349479148386,\n",
       " 'property': 0.002774038236695561,\n",
       " 'thoughts': 0.002773335119398276,\n",
       " 'false': 0.0027691118207592144,\n",
       " 'right': 0.0027686469049404833,\n",
       " 'holidays': 0.002765906178151944,\n",
       " 'per': 0.0027645762808133235,\n",
       " 'attention': 0.0027632475321885414,\n",
       " 're': 0.0027622298761567528,\n",
       " 'law': 0.002756912584229953,\n",
       " 'stress': 0.002754802083624258,\n",
       " 'increase': 0.00275370694162268,\n",
       " 'desk': 0.0027449492517515645,\n",
       " 'completed': 0.0027434632337595306,\n",
       " 'idk': 0.002731812142587974,\n",
       " 'dangerous': 0.002730717000586397,\n",
       " 'office': 0.0027304036105657292,\n",
       " 'gov': 0.0027270418473050425,\n",
       " 'walking': 0.002726103974670718,\n",
       " 'certainly': 0.0027241484460046013,\n",
       " 'anything': 0.002721723406664399,\n",
       " 'since': 0.002721488651327361,\n",
       " 'happiness': 0.0027193006647518803,\n",
       " 'technology': 0.002716563384104853,\n",
       " 'll': 0.002715546876786901,\n",
       " 'took': 0.0027085099602448606,\n",
       " 'matt': 0.0026981089830144613,\n",
       " 'planned': 0.0026979528623610463,\n",
       " 'central': 0.0026974833516869652,\n",
       " 'links': 0.002696310723715598,\n",
       " 'bigger': 0.0026952155817140198,\n",
       " 'loves': 0.0026926355704342446,\n",
       " 'approach': 0.00269091479710517,\n",
       " 'lets': 0.002688647027132224,\n",
       " 'smile': 0.002687083523170402,\n",
       " 'obsessed': 0.0026864578918429052,\n",
       " 'move': 0.00268630062247565,\n",
       " 'did': 0.002684968427709364,\n",
       " 'views': 0.0026804363339049805,\n",
       " 'light': 0.0026760580633263444,\n",
       " 'civil': 0.002670192626041832,\n",
       " 'senior': 0.0026669083487509343,\n",
       " 'dying': 0.002661434936170718,\n",
       " 'confirmed': 0.002660339794169139,\n",
       " 'fav': 0.0026493143343250796,\n",
       " 'tune': 0.002648219192323501,\n",
       " 'nominee': 0.0026478283163330458,\n",
       " 'pink': 0.002646030057034182,\n",
       " 'safe': 0.0026411822757814625,\n",
       " 'tho': 0.00263954013713601,\n",
       " 'worse': 0.0026303117878769804,\n",
       " 'winner': 0.002630155667223564,\n",
       " 'ahead': 0.0026276531419135787,\n",
       " 'ordered': 0.002626950024616293,\n",
       " 'supporters': 0.002626871389932668,\n",
       " 'headline': 0.0026231962366513135,\n",
       " 'university': 0.0026160020507420218,\n",
       " 'middle': 0.0026157672954049815,\n",
       " 'process': 0.0026147507880870287,\n",
       " ...}"
      ]
     },
     "execution_count": 23,
     "metadata": {},
     "output_type": "execute_result"
    }
   ],
   "source": [
    "# seeing the results in term of common words with more potential to differentiate\n",
    "{k: v for k, v in sorted(percentage_diff.items(), key=lambda item: item[1],reverse=True)}"
   ]
  },
  {
   "cell_type": "markdown",
   "metadata": {},
   "source": [
    "As we expected, words like **my** and **i** offer a great power of differentiation between female and male posts.\n",
    "\n",
    "Also **the** appears in the top differenciating position between the classic stopwords. \n",
    "\n",
    "We can't eliminate it as usually we would do by considering them stopwords.\n",
    "\n",
    "We will eliminate the words that:\n",
    "- Are between the top 10% most frequent for both men and women;\n",
    "- Are below the median for the difference relative occurence between men and women."
   ]
  },
  {
   "cell_type": "code",
   "execution_count": 24,
   "metadata": {},
   "outputs": [
    {
     "name": "stdout",
     "output_type": "stream",
     "text": [
      "['brilliant', 'charged', 'short', 'entertaining', 'weak', 'begins', 'bush', 'reform', 'thursday', 'square', 'corporate', 'hates', 'kill', 'opportunities', 'harder', 'options', 'soundtrack', 'held', 'resistance', 'strong', 'college', 'holy', 'syrian', 'population', 'award', 'heaven', 'murder', 'reported', 'sea', 'board', 'oil', 'push', 'split', 'obamacare', 'riding', 'lying', 'conflict', 'basic', 'edinburgh', 'van', 'novel', 'midnight', 'te', 'green', 'handle', 'arse', 'florida', 'expensive', 'bio', 'beside', 'age', 'stewart', 'grand', 'turns', 'changing', 'tackle', 'pretend', 'spin', 'blow', 'presents', 'reminds', 'monster', 'areas', 'independent', 'comment', 'ag', 'voter', 'primary', 'whenever', 'dept', 'ourselves', 'loose', 'artists', 'base', 'concerned', 'tickets', 'buses', 'p', 'marching', 'york', 'perspective', 'model', 'bathroom', 'rid', 'trick', 'castle', 'taxes', 'bell', 'promised', 'homeless', 'fridge', 'agenda', 'caused', 'candidates', 'referring', 'table', 'picture', 'bringing', 'houses', 'rose', 'display', 'teeth', 'forget', 'afraid', 'disability', 'show', 'laptop', 'spotted', 'cia', 'prepared', 'airport', 'engagement', 'convinced', 'btw', 'auckland', 'nuts', 'achieve', 'citizen', 'fault', 'funny', 'reflect', 'reminder', 'courtesy', 'adults', 'stuck', 'hardly', 'toronto', 'brings', 'fully', 'brothers', 'inner', 'calls', 'lab', 'pie', 'group', 'northern', 'discovered', 'worst', 'invite', 'texas', 'holding', 'rock', 'insights', 'trend', 'launches', 'ends', 'joint', 'easier', 'loads', 'grant', 'countdown', 'spoke', 'commitment', 'walls', 'includes', 'package', 'called', 'prison', 'church', 'prob', 'qualified', 'vulnerable', 'mary', 'became', 'lawyer', 'path', 'fingers', 'protesters', 'period', 'presidential', 'terrorism', 'none', 'members', 'exact', 'generation', 'rare', 'door', 'wee', 'manage', 'saving', 'banks', 'quite', 'fall', 'pack', 'gemini', 'rob', 'parliament', 'limits', 'fallen', 'accused', 'exchange', 'aussie', 'taxi', 'painful', 'sorted', 'refuse', 'fly', 'ps', 'rage', 'black', 'needed', 'gone', 'sales', 'mt', 'dick', 'staff', 'williams', 'colours', 'ceo', 'shirt', 'honour', 'fitness', 'new', 'friendly', 'suddenly', 'greens', 'officials', 'ass', 'accept', 'anybody', 'plastic', 'extremely', 'hand', 'realized', 'celebrity', 'contest', 'upset', 'guilty', 'plant', 'hitting', 'apartment', 'favorite', 'sarah', 'harry', 'announcement', 'certain', 'pray', 'overseas', 'finish', 'promises', 'incredible', 'degree', 'funds', 'cure', 'author', 'tear', 'talk', 'mouth', 'choice', 'thankfully', 'updates', 'pride', 'limit', 'depressing', 'dc', 'zone', 'zoo', 'reporting', 'liking', 'adam', 'resolution', 'window', 'packed', 'rubbish', 'confirmation', 'importance', 'blocked', 'slow', 'kiwi', 'quarter', 'wet', 'tag', 'very', 'driver', 'negative', 'motivation', 'opportunity', 'documentary', 'taylor', 'fam', 'homes', 'often', 'rush', 'deals', 'st', 'reach', 'advertising', 'rice', 'known', 'fixed', 'orders', 'epic', 'bear', 'relationship', 'tour', 'respect', 'blacks', 'named', 'visited', 'wa', 'bomb', 'solution', 'replaced', 'continues', 'normally', 'moved', 'carrie', 'hutt', 'forecast', 'affect', 'dates', 'malcolm', 'core', 'abc', 'french', 'language', 'struggling', 'unreal', 'boy', 'management', 'whether', 'highlight', 'step', 'pants', 'classes', 'trust', 'songs', 'heat', 'immediately', 'statement', 'tools', 'sucks', 'longer', 'lawyers', 'treatment', 'feb', 'hosting', 'reduce', 'fascist', 'creating', 'mosque', 'launched', 'removed', 'alert', 'un', 'tribute', 'duty', 'everywhere', 'plus', 'tower', 'constitution', 'em', 'complex', 'editing', 'summer', 'active', 'ties', 'set', 'character', 'part', 'productive', 'moore', 'program', 'steps', 'paint', 'accident', 'speaker', 'listen', 'jam', 'below', 'delayed', 'roof', 'across', 'bubble', 'waste', 'confirm', 'rolling', 'fellow', 'impressed', 'maths', 'special', 'pre', 'boost', 'bird', 'lines', 'giant', 'moments', 'dealing', 'answers', 'boots', 'justice', 'snap', 'radical', 'barely', 'expected', 'beginning', 'require', 'fancy', 'resources', 'noise', 'vice', 'requires', 'constant', 'driven', 'welly', 'beyond', 'connected', 'nomination', 'burn', 'anniversary', 'son', 'useless', 'highest', 'visiting', 'lit', 'counting', 'hero', 'east', 'companies', 'mon', 'behavior', 'heading', 'f', 'leaves', 'broke', 'flat', 'suck', 'client', 'walked', 'regular', 'responsible', 'genius', 'basically', 'profile', 'personally', 'native', 'wise', 'sees', 'genuinely', 'services', 'train', 'suit', 'fuckin', 'eo', 'purchase', 'scenes', 'fiction', 'moral', 'j', 'boom', 'crew', 'jokes', 'respond', 'syria', 'hr', 'families', 'yep', 'footage', 'bacon', 'wild', 'ad', 'allow', 'keen', 'london', 'view', 'sunshine', 'affected', 'shares', 'attitude', 'difference', 'anywhere', 'lecture', 'tradition', 'residents', 'meanwhile', 'delay', 'trailer', 'jail', 'quote', 'experiences', 'blind', 'bottle', 'trends', 'caps', 'brought', 'announce', 'consequences', 'moving', 'spread', 'instead', 'address', 'becoming', 'focused', 'previous', 'kept', 'allowed', 'highly', 'particular', 'fear', 'beef', 'q', 'realise', 'cutting', 'looked', 'kevin', 'clue', 'immigrant', 'interests', 'involved', 'closer', 'hurts', 'movies', 'leg', 'rich', 'screening', 'asks', 'musical', 'land', 'struggle', 'mac', 'americans', 'worries', 'awareness', 'september', 'starbucks', 'nasty', 'committed', 'metro', 'october', 'tweeting', 'patient', 'gas', 'lewis', 'swing', 'checking', 'upcoming', 'abbott', 'behind', 'straight', 'warning', 'delivered', 'burning', 'presidency', 'somebody', 'disappointing', 'putin', 'bowl', 'webinar', 'ages', 'mirror', 'raising', 'talked', 'mrs', 'above', 'environment', 'delivery', 'access', 'hashtag', 'search', 'vetting', 'progress', 'ignorant', 'brown', 'hospital', 'glorious', 'reports', 'random', 'pieces', 'info', 'adventure', 'presentation', 'strike', 'orange', 'non', 'djt', 'appear', 'island', 'heads', 'solo', 'kate', 'diversity', 'escape', 'bound', 'playlist', 'melbourne', 'sets', 'stone', 'granted', 'channel', 'disappointed', 'drugs', 'april', 'theme', 'agreed', 'fix', 'daddy', 'house', 'neil', 'strategy', 'gain', 'reasonable', 'obama', 'helped', 'else', 'colour', 'describe', 'fantastic', 'complicated', 'anger', 'dm', 'toilet', 'senators', 'amazon', 'experience', 'cinema', 'crap', 'thx', 'bags', 'extreme', 'prove', 'agreement', 'current', 'currently', 'lake', 'careful', 'pipeline', 'situation', 'halloween', 'rafa', 'poster', 'insight', 'violence', 'gives', 'challenge', 'bin', 'poverty', 'decision', 'universe', 'projects', 'develop', 'button', 'strikes', 'embarrassing', 'magazine', 'head', 'starting', 'sore', 'committee', 'theatre', 'blues', 'clever', 'lift', 'finds', 'changes', 'sounds', 'lord', 'anytime', 'ross', 'marriage', 'comments', 'panic', 'hip', 'true', 'july', 'seeking', 'ill', 'types', 'related', 'shake', 'exhibition', 'cut', 'fill', 'uses', 'innocent', 'didnt', 'hack', 'bunch', 'strength', 'advance', 'trains', 'freezing', 'minute', 'who', 'register', 'ignorance', 'donations', 'partner', 'colleagues', 'discussion', 'southern', 'challenging', 'regardless', 'ahh', 'opening', 'seattle', 'bag', 'berlin', 'nowhere', 'stops', 'telling', 'guessing', 'mo', 'spotify', 'dunno', 'action', 'roads', 'entertainment', 'shower', 'finger', 'further', 'brunch', 'grab', 'da', 'tight', 'taste', 'allowing', 'conway', 'streets', 'helps', 'grey', 'atm', 'offered', 'rep', 'total', 'meaning', 'fund', 'silence', 'shoot', 'realize', 'delete', 'real', 'phd', 'canadians', 'influence', 'programme', 'remembered', 'disaster', 'raise', 'kidding', 'matters', 'considering', 'shape', 'song', 'reviews', 'hunt', 'supporter', 'kid', 'prof', 'edge', 'chaos', 'quiz', 'prince', 'achievement', 'detail', 'background', 'turnbull', 'nick', 'santa', 'sides', 'film', 'extraordinary', 'required', 'huh', 'picks', 'france', 'link', 'rising', 'edit', 'ian', 'speech', 'deserves', 'sake', 'spoken', 'competition', 'nsw', 'ugly', 'mp', 'pence', 'leaders', 'nope', 'crisis', 'prayer', 'admit', 'prime', 'timing', 'serve', 'justin', 'allies', 'knowing', 'interview', 'limited', 'secret', 'criminal', 'smell', 'mistake', 'leadership', 'cards', 'flights', 'camp', 'mixed', 'chicago', 'equal', 'ignore', 'figure', 'colleague', 'annual', 'ways', 'recovery', 'reminded', 'flow', 'whilst', 'arms', 'specific', 'considered', 'meetings', 'hands', 'knows', 'punch', 'fyi', 'empty', 'staying', 'laws', 'create', 'deeply', 'ocean', 'effort', 'boycott', 'bravo', 'travel', 'print', 'bright', 'ideal', 'designed', 'awful', 'def', 'successful', 'bs', 'shared', 'alan', 'showed', 'arrested', 'tried', 'bother', 'dems', 'flash', 'bloody', 'chapter', 'movie', 'suppose', 'member', 'map', 'era', 'characters', 'evening', 'sit', 'frank', 'wide', 'live', 'request', 'protest', 'sources', 'wasted', 'nov', 'mall', 'oscar', 'notes', 'shock', 'focus', 'reveals', 'lock', 'reasons', 'pictures', 'afford', 'according', 'gutted', 'results', 'emails', 'morgan', 'learned', 'visa', 'sector', 'illegal', 'storm', 'kicking', 'properly', 'cooking', 'tunes', 'lead', 'values', 'trial', 'minds', 'mps', 'balance', 'gotten', 'six', 'parts', 'spring', 'quotes', 'whoever', 'exercise', 'remind', 'change', 'tweeted', 'decisions', 'chill', 'understand', 'stories', 'religion', 'aus', 'protection', 'experts', 'essential', 'sunset', 'identity', 'quickly', 'leaving', 'throwing', 'tasty', 'tells', 'photos', 'sessions', 'fish', 'conference', 'dem', 'boss', 'festival', 'sauce', 'sun', 'ft', 'early', 'effects', 'cuz', 'captain', 'troll', 'seek', 'entry', 'willing', 'boston', 'pretty', 'groups', 'peak', 'trail', 'moment', 'quit', 'donation', 'appropriate', 'compared', 'streaming', 'cares', 'indian', 'location', 'images', 'mountain', 'discuss', 'anti', 'quake', 'royal', 'fat', 'upper', 'highlights', 'bridge', 'click', 'story', 'exist', 'reporter', 'le', 'locked', 'christian', 'topic', 'add', 'initiative', 'saved', 'disgrace', 'army', 'direction', 'promise', 'holds', 'con', 'ridiculous', 'bread', 'calendar', 'drivers', 'h', 'solve', 'finishing', 'photo', 'course', 'suggestions', 'wants', 'source', 'worry', 'necessary', 'cool', 'pacific', 'paris', 'follow', 'ability', 'soft', 'individual', 'headed', 'awkward', 'consider', 'education', 'county', 'famous', 'bully', 'k', 'till', 'shitty', 'circle', 'surprised', 'completely', 'motion', 'younger', 'ha', 'details', 'doctors', 'teaching', 'physical', 'aid', 'cultural', 'incredibly', 'films', 'pleased', 'butter', 'weight', 'golden', 'journalist', 'conservative', 'daily', 'dirty', 'load', 'aware', 'raised', 'comfortable', 'feed', 'music', 'ryan', 'turkey', 'essay', 'somehow', 'business', 'ms', 'demo', 'breaks', 'sadly', 'writer', 'ive', 'accidentally', 'humans', 'potato', 'neck', 'inside', 'society', 'ultimate', 'small', 'plane', 'joining', 'route', 'peeps', 'chose', 'unique', 'goes', 'insane', 'wednesday', 'killer', 'legacy', 'while', 'setting', 'surprise', 'easy', 'ring', 'unfortunately', 'surprising', 'africa', 'damage', 'curious', 'supports', 'guys', 'threat', 'budget', 'fox', 'council', 'stranger', 'oppose', 'worried', 'clock', 'angry', 'sentence', 'forces', 'breath', 'june', 'into', 'study', 'brand', 'confused', 'michelle', 'discover', 'journalism', 'oz', 'raw', 'immigrants', 'stick', 'bernie', 'providing', 'experienced', 'worked', 'turning', 'pick', 'avoid', 'tennis', 'stage', 'hotel', 'event', 'studio', 'hoping', 'wisdom', 'handy', 'kiss', 'anymore', 'seats', 'ignored', 'danger', 'doors', 'pair', 'express', 'kelly', 'wifi', 'mexican', 'center', 'nor', 'normal', 'doctor', 'regret', 'parks', 'adding', 'esp', 'pissed', 'australia', 'walk', 'married', 'hidden', 'prepare', 'century', 'faces', 'catch', 'pocket', 'aged', 'silent', 'discussing', 'foot', 'turn', 'financial', 'order', 'victoria', 'familiar', 'ep', 'spots', 'broken', 'asap', 'believes', 'provide', 'material', 'count', 'terror', 'tries', 'department', 'dare', 'ice', 'hide', 'cheer', 'investment', 'restaurant', 'sound', 'december', 'clip', 'regarding', 'estate', 'buzzing', 'supported', 'announced', 'trolls', 'featuring', 'chair', 'pass', 'pulled', 'dec', 'crossed', 'supposed', 'deadline', 'funding', 'posts', 'grown', 'site', 'crime', 'sale', 'arts', 'issues', 'boat', 'accountable', 'hearing', 'pulling', 'pages', 'upon', 'ed', 'opened', 'stood', 'holocaust', 'generally', 'roll', 'complain', 'admin', 'conditions', 'pop', 'critical', 'arrive', 'apologies', 'sandwich', 'bout', 'traditional', 'hits', 'tip', 'blast', 'sec', 'puts', 'nz', 'youtube', 'loss', 'throughout', 'increased', 'hard', 'feedback', 'treated', 'cash', 'mini', 'explains', 'box', 'born', 'carry', 'rally', 'alcohol', 'counts', 'plate', 'hell', 'unless', 'destroy', 'heavy', 'tool', 'assault', 'definition', 'repeat', 'concert', 'email', 'street', 'ended', 'concept', 'continue', 'schedule', 'netflix', 'memory', 'tie', 'column', 'attempt', 'simple', 'hamilton', 'healthcare', 'horror', 'eventually', 'project', 'faster', 'degrees', 'managed', 'complaining', 'ear', 'italian', 'ears', 'alive', 'aside', 'picking', 'murray', 'vision', 'whose', 'arm', 'practice', 'birds', 'without', 'courage', 'along', 'winners', 'fucked', 'hiding', 'buying', 'speaking', 'crack', 'towards', 'worrying', 'minister', 'passion', 'passes', 'badly', 'mad', 'cast', 'gig', 'virtual', 'company', 'madness', 'distance', 'lmao', 'phones', 'religious', 'museum', 'improve', 'attend', 'concerns', 'offensive', 'joined', 'hundreds', 'father', 'signs', 'expectations', 'rates', 'domestic', 'responsibility', 'style', 'promote', 'episode', 'updated', 'welsh', 'cycle', 'falling', 'fruit', 'fighting', 'names', 'deliver', 'overnight', 'parties', 'older', 'remove', 'paid', 'runs', 'uber', 'slightly', 'pres', 'especially', 'plans', 'camera', 'eye', 'approval', 'slowly', 'youth', 'information', 'entering', 'relevant', 'vlog', 'seo', 'mistakes', 'doc', 'celebrating', 'goodbye', 'cities', 'balls', 'replace', 'sing', 'delighted', 'director', 'plot', 'shadow', 'california', 'engage', 'included', 'bonus', 'hall', 'messages', 'launch', 'particularly', 'flight', 'artist', 'protesting', 'brian', 'fast', 'row', 'cabinet', 'af', 'horrific', 'stayed', 'sigh', 'racism', 'closing', 'drawing', 'alright', 'error', 'dr', 'scene', 'section', 'opens', 'whats', 'before', 'january', 'andrew', 'ours', 'freedom', 'dry', 'fascism', 'subject', 'received', 'cross', 'thru', 'lyrics', 'comedy', 'ghost', 'pr', 'dan', 'cancelled', 'lesson', 'um', 'meat', 'bank', 'throw', 'opinions', 'behaviour', 'act', 'type', 'yrs', 'lived', 'quebec', 'engaged', 'grew', 'relief', 'park', 'killed', 'shall', 'tuesday', 'murdered', 'usual', 'expert', 'enjoyed', 'bits', 'collection', 'welfare', 'calm', 'task', 'obviously', 'august', 'start', 'jamie', 'priority', 'pushing', 'trash', 'customer', 'reached', 'seem', 'desperate', 'offer', 'forced', 'rhetoric', 'directly', 'listened', 'panel', 'ratings', 'covered', 'perfectly', 'mentioned', 'testing', 'bored', 'effective', 'store', 'nightmare', 'caught', 'records', 'february', 'connect', 'kellyanne', 'late', 'voting', 'nyc', 'comes', 'becomes', 'shown', 'disease', 'saudi', 'sight', 'kick', 'saying', 'interest', 'selfie', 'neither', 'gap', 'attending', 'noticed', 'nicely', 'catching', 'fed', 'glasses', 'cover', 'growing', 'planning', 'refugees', 'magic', 'nature', 'block', 'italy', 'contact', 'leading', 'id', 'australians', 'benefit', 'smoke', 'recently', 'reporters', 'hill', 'sand', 'filter', 'falls', 'meant', 'bizarre', 'trumps', 'stronger', 'likes', 'lessons', 'shame', 'pressure', 'writers', 'chinese', 'chips', 'prevent', 'christians', 'smh', 'draft', 'gold', 'gear', 'crash', 'drug', 'sexual', 'acting', 'rest', 'viewing', 'habits', 'roger', 'torture', 'deaths', 'sites', 'hurt', 'canadian', 'fit', 'lifetime', 'revolution', 'honor', 'addition', 'kim', 'takes', 'purpose', 'thousands', 'digital', 'japanese', 'charity', 'jacket', 'safety', 'shoes', 'town', 'risk', 'spending', 'victims', 'thomas', 'happen', 'actor', 'trees', 'actions', 'constantly', 'memories', 'themselves', 'ashamed', 'forgotten', 'hmm', 'pure', 'water', 'awards', 'apparently', 'thought', 'gif', 'papers', 'dies', 'shameful', 'past', 'except', 'mess', 'rocks', 'dropping', 'cuts', 'selling', 'efforts', 'november', 'emergency', 'feet', 'challenges', 'ny', 'apart', 'ethics', 'yea', 'offers', 'schools', 'ex', 'seat', 'uncle', 'sexy', 'investigation', 'episodes', 'bars', 'twice', 'filled', 'connection', 'seven', 'keeps', 'thing', 'aka', 'village', 'grace', 'reveal', 'drive', 'knowledge', 'cancel', 'goat', 'yellow', 'owner', 'onto', 'harm', 'deleted', 'created', 'stats']\n"
     ]
    }
   ],
   "source": [
    "# calculating the most common words to be removed\n",
    "median_threshold = np.quantile(list(percentage_diff.values()), 0.5)\n",
    "words_to_remove = [k for (k, v) in percentage_diff.items() if v < median_threshold]\n",
    "print(words_to_remove)"
   ]
  },
  {
   "cell_type": "code",
   "execution_count": 25,
   "metadata": {},
   "outputs": [
    {
     "name": "stdout",
     "output_type": "stream",
     "text": [
      "The set of words to remove is  4.34 % of female vocabulary and  4.09 % of male vocabulary.\n"
     ]
    }
   ],
   "source": [
    "print(\"The set of words to remove is \", round(len(words_to_remove)/len(female_vocab)*100,2), \"% of female vocabulary and \",\n",
    "round(len(words_to_remove)/len(male_vocab)*100,2), \"% of male vocabulary.\")"
   ]
  },
  {
   "cell_type": "markdown",
   "metadata": {},
   "source": [
    "Removing the common words which don't offer differentiation power:"
   ]
  },
  {
   "cell_type": "code",
   "execution_count": 26,
   "metadata": {},
   "outputs": [
    {
     "name": "stdout",
     "output_type": "stream",
     "text": [
      "Most Common Final:\n",
      " [('xusernamex', 272010), ('URL', 168805), ('the', 151927), ('to', 116209), ('a', 97881), ('i', 73395), ('of', 68470), ('and', 65327), ('in', 62509), ('for', 58422), ('is', 57648), ('you', 56360), ('on', 42992), ('it', 40450), ('this', 38605), ('that', 32309), ('my', 31946), ('with', 27124), ('be', 26277), ('at', 22617), ('have', 22405), ('so', 22214), ('are', 22178), ('not', 21579), ('your', 20744)]\n"
     ]
    }
   ],
   "source": [
    "for fileid in tokenized_id :\n",
    "    tokenized_id[fileid] = [w for w in tokenized_id[fileid] if w not in words_to_remove]\n",
    "\n",
    "final_words_filtered = list(chain.from_iterable(tokenized_id.values()))\n",
    "fd_4 = FreqDist(final_words_filtered)\n",
    "\n",
    "print(\"Most Common Final:\\n\", fd_4.most_common(25))"
   ]
  },
  {
   "cell_type": "code",
   "execution_count": 27,
   "metadata": {},
   "outputs": [],
   "source": [
    "for fileid in tokenized_id2 :\n",
    "    tokenized_id2[fileid] = [w for w in tokenized_id2[fileid] if w not in words_to_remove]"
   ]
  },
  {
   "cell_type": "markdown",
   "metadata": {},
   "source": [
    "Even though `xusernamex` and `URL` are common words when we look at both datasets, they are preserved at each stage due to the potential differentiation power that they offer."
   ]
  },
  {
   "cell_type": "markdown",
   "metadata": {},
   "source": [
    "## 7. Building Vector Representation\n",
    "\n",
    "   Now, we will start building the inputs for our models. We test 3 different kinds of vectorization techniques:\n",
    "\n",
    "   1. **Bag-of-Words Model:**\n",
    "\n",
    "    Vectorization technique that uses the number of occurrences of words within a document or a corpus. (RAX Automation Suite (2019, June 22)) \n",
    "    \n",
    "\n",
    "   2. **Term Frequency-Inverse Document Frequency:**\n",
    "\n",
    "    The TF-IDF is a more advanced variant of Bag-of-Words Model, which takes into consideration the importance of the words based on its rarity in the document.\n",
    "    \n",
    "$$tf-idf_{weight} = tf_{weight}*idf_{weight}$$\n",
    "\n",
    "$$tf_{weight} = \\frac{\\#TokenOccurences}{\\#DocumentTokens}$$\n",
    "\n",
    "$$idf_{weight} = log\\frac{\\#Documents}{\\#DocumentsContainingTheToken}$$\n",
    "\n",
    "   3. **Embedding/Word2Vec:**\n",
    "\n",
    "    We apply the Word Embedding Word2Vec technique. Embedding is a type of word representation which allows words with similar meaning to be understood by ML algorithms. Word2vec is a way to produce word embedding by capturing a large number of precise syntactic and semantic word relationships. More specifically, it captures these relationships with a shallow two-layered neural network.  (Guru99, 2020)"
   ]
  },
  {
   "cell_type": "markdown",
   "metadata": {},
   "source": [
    "### 7.1 - Organizing Testing and Training Data\n",
    "\n",
    "The `tokenized_id` and `tokenized_id2` dictionaries contains both training and testing data. We need to separate it into a training and a testing dictionaries by using the ids in `train_labels`:"
   ]
  },
  {
   "cell_type": "code",
   "execution_count": 28,
   "metadata": {},
   "outputs": [],
   "source": [
    "# create a dictionary for training and another for testing data for 1st filter\n",
    "train_dict, test_dict = {}, {}\n",
    "for k, v in tokenized_id.items(): \n",
    "    if k in train_labels.index: # must be in the training dataset\n",
    "        train_dict[k] = v\n",
    "    else:\n",
    "        test_dict[k] = v\n",
    "train_dict.update(test_dict) # dictionary where first 3100 items are traning data and the rest is testing"
   ]
  },
  {
   "cell_type": "code",
   "execution_count": 29,
   "metadata": {},
   "outputs": [],
   "source": [
    "# create a dictionary for training and another for testing data for 2nd filter\n",
    "train_dict2, test_dict2 = {}, {}\n",
    "for k, v in tokenized_id2.items():\n",
    "    if k in train_labels.index: # must be in the training dataset\n",
    "        train_dict2[k] = v\n",
    "    else:\n",
    "        test_dict2[k] = v\n",
    "train_dict2.update(test_dict2) # dictionary where first 3100 items are traning data and the rest is testing"
   ]
  },
  {
   "cell_type": "code",
   "execution_count": 30,
   "metadata": {},
   "outputs": [],
   "source": [
    "#reorder the train_labels dataframe according to our train_dic id order\n",
    "train_labels = train_labels.reindex(list(train_dict.keys())[0:3100])"
   ]
  },
  {
   "cell_type": "code",
   "execution_count": 31,
   "metadata": {},
   "outputs": [],
   "source": [
    "#save it to keep the training order when training the model\n",
    "train_labels.to_csv('train_labels.csv')"
   ]
  },
  {
   "cell_type": "code",
   "execution_count": 32,
   "metadata": {},
   "outputs": [],
   "source": [
    "#save it to keep the testing order when testing the model\n",
    "np.save('test_index_list.npy', list(test_dict.keys()))"
   ]
  },
  {
   "cell_type": "markdown",
   "metadata": {},
   "source": [
    "### 7.2 - Creating the Bag of Words\n",
    "\n",
    "Over 2016, 2017 and 2018, the winning systems PAN competition made use of both word n-grams and character n-grams. We follow this technique, and apply the `CountVectorizer` twice, generating word and character n-grams, based on Basile, A., Dwyer, G., Medvedeva, M., Rawee, J., Haagsma, H., Nissim, M. (2017).  Like them, our baseline n-gram model was using word 1 and 2-grams and character 3 to 5-grams."
   ]
  },
  {
   "cell_type": "code",
   "execution_count": 33,
   "metadata": {},
   "outputs": [
    {
     "name": "stdout",
     "output_type": "stream",
     "text": [
      "(3600, 44624)\n"
     ]
    }
   ],
   "source": [
    "# initialising the countvectorizer models\n",
    "vectorizer1 = CountVectorizer(analyzer='char', min_df = 0.03, max_df = 0.95, ngram_range=(3,5), lowercase= False)\n",
    "vectorizer2 = CountVectorizer(analyzer='word', min_df = 0.03, max_df = 0.95, ngram_range=(1,2), lowercase= False)\n",
    "\n",
    "# fitting the models\n",
    "bw_train1 = vectorizer1.fit_transform([' '.join(value) for value in train_dict.values()])\n",
    "bw_train2 = vectorizer2.fit_transform([' '.join(value) for value in train_dict.values()])\n",
    "bw_train = np.hstack((csr_matrix.toarray(bw_train1), csr_matrix.toarray(bw_train2)))\n",
    "\n",
    "# checking the size\n",
    "print (bw_train.shape)"
   ]
  },
  {
   "cell_type": "code",
   "execution_count": 34,
   "metadata": {},
   "outputs": [],
   "source": [
    "# dividing into training and testing data\n",
    "bw_train3 = bw_train[:3100,] # training\n",
    "bw_test = bw_train[3100:,] # testing"
   ]
  },
  {
   "cell_type": "code",
   "execution_count": 35,
   "metadata": {},
   "outputs": [
    {
     "data": {
      "text/plain": [
       "(3100, 44624)"
      ]
     },
     "execution_count": 35,
     "metadata": {},
     "output_type": "execute_result"
    }
   ],
   "source": [
    "# checking the size of training data\n",
    "bw_train3.shape"
   ]
  },
  {
   "cell_type": "code",
   "execution_count": 36,
   "metadata": {},
   "outputs": [
    {
     "data": {
      "text/plain": [
       "(500, 44624)"
      ]
     },
     "execution_count": 36,
     "metadata": {},
     "output_type": "execute_result"
    }
   ],
   "source": [
    "# checking the size of testing data\n",
    "bw_test.shape"
   ]
  },
  {
   "cell_type": "code",
   "execution_count": 37,
   "metadata": {},
   "outputs": [],
   "source": [
    "# Saving for foward modelling step\n",
    "np.save('bw_train.npy', bw_train3) \n",
    "np.save('bw_test.npy', bw_test) "
   ]
  },
  {
   "cell_type": "markdown",
   "metadata": {},
   "source": [
    "### 7.3 - Creating the TF-IDF"
   ]
  },
  {
   "cell_type": "code",
   "execution_count": 38,
   "metadata": {},
   "outputs": [
    {
     "data": {
      "text/plain": [
       "(3600, 1265)"
      ]
     },
     "execution_count": 38,
     "metadata": {},
     "output_type": "execute_result"
    }
   ],
   "source": [
    "# initialising the TF-IDF model\n",
    "tfidf_train = TfidfVectorizer(analyzer = \"word\")\n",
    "\n",
    "# fitting the model\n",
    "tfs_train = tfidf_train.fit_transform([' '.join(value) for value in train_dict2.values()])\n",
    "\n",
    "# checking the size\n",
    "tfs_train.shape"
   ]
  },
  {
   "cell_type": "code",
   "execution_count": 39,
   "metadata": {},
   "outputs": [],
   "source": [
    "# dividing into training and testing data\n",
    "tfs_train2 = tfs_train[:3100,] # training\n",
    "tfs_test = tfs_train[3100:,] # testing"
   ]
  },
  {
   "cell_type": "code",
   "execution_count": 40,
   "metadata": {},
   "outputs": [
    {
     "data": {
      "text/plain": [
       "(3100, 1265)"
      ]
     },
     "execution_count": 40,
     "metadata": {},
     "output_type": "execute_result"
    }
   ],
   "source": [
    "# checking the size of training data\n",
    "tfs_train2.shape"
   ]
  },
  {
   "cell_type": "code",
   "execution_count": 41,
   "metadata": {},
   "outputs": [
    {
     "data": {
      "text/plain": [
       "(500, 1265)"
      ]
     },
     "execution_count": 41,
     "metadata": {},
     "output_type": "execute_result"
    }
   ],
   "source": [
    "# checking the size of testing data\n",
    "tfs_test.shape"
   ]
  },
  {
   "cell_type": "code",
   "execution_count": 42,
   "metadata": {},
   "outputs": [],
   "source": [
    "# Saving for foward modelling step\n",
    "np.save('tfs_train.npy', tfs_train2) \n",
    "np.save('tfs_test.npy', tfs_test) "
   ]
  },
  {
   "cell_type": "markdown",
   "metadata": {},
   "source": [
    "### 7.4 - Embedding Process using Word2Vec"
   ]
  },
  {
   "cell_type": "code",
   "execution_count": 52,
   "metadata": {},
   "outputs": [],
   "source": [
    "# Setting the seed:\n",
    "random.seed(1234)\n",
    "\n",
    "# initialising the Word2Vec model\n",
    "w2v_model = Word2Vec()"
   ]
  },
  {
   "cell_type": "code",
   "execution_count": 53,
   "metadata": {},
   "outputs": [
    {
     "name": "stdout",
     "output_type": "stream",
     "text": [
      "Time to build vocab: 0.016666666666666666 mins\n"
     ]
    }
   ],
   "source": [
    "from time import time\n",
    "# building the vocabulary \n",
    "t = time()\n",
    "w2v_model.build_vocab([value for value in train_dict2.values()], progress_per=10000)\n",
    "print('Time to build vocab: {} mins'.format(round(time()-t)/60,2))"
   ]
  },
  {
   "cell_type": "code",
   "execution_count": 54,
   "metadata": {},
   "outputs": [
    {
     "name": "stdout",
     "output_type": "stream",
     "text": [
      "Time to train model: 0.5666666666666667 mins\n"
     ]
    }
   ],
   "source": [
    "# training the model\n",
    "t = time()\n",
    "w2v_train = w2v_model.train([value for value in train_dict.values()], \n",
    "                            total_examples=w2v_model.corpus_count,epochs=30)\n",
    "print('Time to train model: {} mins'.format(round(time()-t)/60,2))"
   ]
  },
  {
   "cell_type": "code",
   "execution_count": 55,
   "metadata": {},
   "outputs": [],
   "source": [
    "# performing the similarities \n",
    "w2v_model.init_sims(replace=True)"
   ]
  },
  {
   "cell_type": "markdown",
   "metadata": {},
   "source": [
    "Let's have a look in some words to see if the similarities make sense:"
   ]
  },
  {
   "cell_type": "code",
   "execution_count": 56,
   "metadata": {},
   "outputs": [
    {
     "data": {
      "text/plain": [
       "[('loved', 0.6381963491439819),\n",
       " ('miss', 0.5901409387588501),\n",
       " ('loving', 0.5694423317909241),\n",
       " ('appreciate', 0.5129374265670776),\n",
       " ('gorgeous', 0.5087400674819946),\n",
       " ('hate', 0.4976256489753723),\n",
       " ('enjoy', 0.4613158106803894),\n",
       " ('aw', 0.4542536437511444),\n",
       " ('thank', 0.4500374495983124),\n",
       " ('cute', 0.43934154510498047)]"
      ]
     },
     "execution_count": 56,
     "metadata": {},
     "output_type": "execute_result"
    }
   ],
   "source": [
    "w2v_model.wv.most_similar(positive=['love'])"
   ]
  },
  {
   "cell_type": "code",
   "execution_count": 57,
   "metadata": {},
   "outputs": [
    {
     "data": {
      "text/plain": [
       "[('president', 0.6488549709320068),\n",
       " ('executive', 0.6415964365005493),\n",
       " ('gop', 0.6403717994689941),\n",
       " ('immigration', 0.6349425911903381),\n",
       " ('ban', 0.6197999119758606),\n",
       " ('congress', 0.5825625061988831),\n",
       " ('russia', 0.5761454105377197),\n",
       " ('war', 0.5703548192977905),\n",
       " ('federal', 0.5696352124214172),\n",
       " ('muslim', 0.5679210424423218)]"
      ]
     },
     "execution_count": 57,
     "metadata": {},
     "output_type": "execute_result"
    }
   ],
   "source": [
    "w2v_model.wv.most_similar(positive=['trump'])"
   ]
  },
  {
   "cell_type": "markdown",
   "metadata": {},
   "source": [
    "Looks good ! Now we need to prepare the inputs for the models. To calculate the feature vectors we based our code on Arunava (2017):"
   ]
  },
  {
   "cell_type": "code",
   "execution_count": 58,
   "metadata": {},
   "outputs": [],
   "source": [
    "def make_feature_vec(words, model, num_features):\n",
    "    \"\"\"\n",
    "    Average the word vectors for a set of words\n",
    "    \"\"\"\n",
    "    feature_vec = np.zeros((num_features,),dtype=\"float32\")  # pre-initialize (for speed)\n",
    "    nwords = 0.\n",
    "    index2word_set = set(model.wv.index2word)  # words known to the model\n",
    "\n",
    "    for word in words:\n",
    "        if word in index2word_set: \n",
    "            nwords = nwords + 1.\n",
    "            feature_vec = np.add(feature_vec,model[word])\n",
    "    \n",
    "    feature_vec = np.divide(feature_vec, nwords)\n",
    "    return feature_vec\n",
    "\n",
    "\n",
    "def get_avg_feature_vecs(reviews, model, num_features):\n",
    "    \"\"\"\n",
    "    Calculate average feature vectors for all reviews\n",
    "    \"\"\"\n",
    "    counter = 0\n",
    "    review_feature_vecs = np.zeros((len(reviews),num_features), dtype='float32')  # pre-initialize (for speed)\n",
    "    \n",
    "    for review in reviews:\n",
    "        review_feature_vecs[counter] = make_feature_vec(review, model, num_features)\n",
    "        counter = counter + 1\n",
    "    return review_feature_vecs"
   ]
  },
  {
   "cell_type": "code",
   "execution_count": 60,
   "metadata": {},
   "outputs": [],
   "source": [
    "import warnings\n",
    "warnings.filterwarnings(\"ignore\")\n",
    "\n",
    "# calculate average feature vectors for training and test sets\n",
    "clean_train_reviews = []\n",
    "for post in [value for value in train_dict.values()]:\n",
    "    clean_train_reviews.append(post)\n",
    "trainDataVecs = get_avg_feature_vecs(clean_train_reviews, w2v_model, w2v_model.wv.vector_size)"
   ]
  },
  {
   "cell_type": "code",
   "execution_count": 61,
   "metadata": {},
   "outputs": [
    {
     "data": {
      "text/plain": [
       "(3600, 100)"
      ]
     },
     "execution_count": 61,
     "metadata": {},
     "output_type": "execute_result"
    }
   ],
   "source": [
    "# checking the size\n",
    "trainDataVecs.shape"
   ]
  },
  {
   "cell_type": "code",
   "execution_count": 62,
   "metadata": {},
   "outputs": [],
   "source": [
    "# dividing into training and testing data\n",
    "w2v_train2 = trainDataVecs[:3100,] # training\n",
    "w2v_test = trainDataVecs[3100:,] # testing"
   ]
  },
  {
   "cell_type": "code",
   "execution_count": 63,
   "metadata": {},
   "outputs": [
    {
     "data": {
      "text/plain": [
       "(3100, 100)"
      ]
     },
     "execution_count": 63,
     "metadata": {},
     "output_type": "execute_result"
    }
   ],
   "source": [
    "# checking the size of training data\n",
    "w2v_train2.shape"
   ]
  },
  {
   "cell_type": "code",
   "execution_count": 64,
   "metadata": {},
   "outputs": [
    {
     "data": {
      "text/plain": [
       "(500, 100)"
      ]
     },
     "execution_count": 64,
     "metadata": {},
     "output_type": "execute_result"
    }
   ],
   "source": [
    "# checking the size of testing data\n",
    "w2v_test.shape"
   ]
  },
  {
   "cell_type": "code",
   "execution_count": 65,
   "metadata": {},
   "outputs": [],
   "source": [
    "# Saving for foward modelling step\n",
    "np.save('w2v_train.npy', w2v_train2) \n",
    "np.save('w2v_test.npy', w2v_test) "
   ]
  },
  {
   "cell_type": "markdown",
   "metadata": {},
   "source": [
    "## 8. References\n",
    "\n",
    "- Cham J. (2013, March 15). *What is the best regular expression to check if a string is a valid URL?* [Response to]. Retrieved from https://stackoverflow.com/questions/161738/what-is-the-best-regular-expression-to-check-if-a-string-is-a-valid-url\n",
    "\n",
    "- Basile, A., Dwyer, G., Medvedeva, M., Rawee, J., Haagsma, H., Nissim, M. (2017). *N-gram: New groningen author-profiling model, conference and Labs of the Evaluation Forum* (CLEF 2017).\n",
    "\n",
    "- Nieuwenhuis, M., & Wilkens, J. (2018, September). Twitter text and image gender classification with a logistic regression n-gram model. In Proceedings of the Ninth International Conference of the CLEF Association (CLEF 2018).\n",
    "\n",
    "- NLTK Project. (2020). *NLTK 3.5 documentation: `nltk.tokenize` module*. Retrieved from https://www.nltk.org/api/nltk.tokenize.html\n",
    "\n",
    "- Guru99 (2020). *Word Embedding Tutorial: word2vec using Gensim*. Retrieved from https://www.guru99.com/word-embedding-word2vec.html#:~:text=Word2vec%20is%20the%20technique%2Fmodel,shallow%20two%2Dlayered%20neural%20network\n",
    "\n",
    "- RAX Automation Suite (2019, June 22). *Getting Started in Natural Language Processing: Bag-of-Words & TF-IDF*. Retrieved from https://medium.com/datadriveninvestor/getting-started-in-natural-language-processing-bag-of-words-tf-idf-b62e9354eb7e#:~:text=The%20bag%2Dof%2Dwords%20model,of%20documents%20below%20as%\n",
    "\n",
    "- Arunava (2017). *word2vec and random forest classification*. Retrieved from https://www.kaggle.com/arunava21/word2vec-and-random-forest-classification"
   ]
  }
 ],
 "metadata": {
  "kernelspec": {
   "display_name": "Python 3",
   "language": "python",
   "name": "python3"
  },
  "language_info": {
   "codemirror_mode": {
    "name": "ipython",
    "version": 3
   },
   "file_extension": ".py",
   "mimetype": "text/x-python",
   "name": "python",
   "nbconvert_exporter": "python",
   "pygments_lexer": "ipython3",
   "version": "3.7.4"
  }
 },
 "nbformat": 4,
 "nbformat_minor": 2
}
